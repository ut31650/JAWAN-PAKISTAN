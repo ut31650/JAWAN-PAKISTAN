{
 "cells": [
  {
   "cell_type": "markdown",
   "id": "94b44a26-a3e1-40b6-a2f8-5288da630659",
   "metadata": {},
   "source": [
    "Q1. Write a Python function called add_numbers that takes two numbers as arguments and returns their sum. Then, test the function by calling it with two numbers of your choice.\n"
   ]
  },
  {
   "cell_type": "code",
   "execution_count": 1,
   "id": "3e2e1f1f-1790-4172-963a-c0ec2e5c37e2",
   "metadata": {},
   "outputs": [
    {
     "name": "stdout",
     "output_type": "stream",
     "text": [
      "14\n"
     ]
    }
   ],
   "source": [
    "def add_numbers(x,y):\n",
    "    print(x+y)\n",
    "add_numbers(6,8)    "
   ]
  },
  {
   "cell_type": "markdown",
   "id": "2df82858-cc42-45be-b4d8-a6d24073bb06",
   "metadata": {},
   "source": [
    "Q2. Write a Python function count_vowels that accepts a string and returns the number of vowels a, e, i, o, u, A, E, I, O, U in that string.\n",
    "\n",
    "- Example: 'Welcome'\n",
    "- Output: 3 vowels"
   ]
  },
  {
   "cell_type": "code",
   "execution_count": 2,
   "id": "4ce2772a-eb20-41da-a1d9-90fb3e8d93aa",
   "metadata": {},
   "outputs": [
    {
     "name": "stdout",
     "output_type": "stream",
     "text": [
      "3 vowels\n"
     ]
    }
   ],
   "source": [
    "def count_vowels(text):\n",
    "    vowels = \"aeiouAEIOU\"\n",
    "    count = sum(1 for i in text if i in vowels)\n",
    "    return f\"{count} vowels\"\n",
    "\n",
    "print(count_vowels(\"Welcome\"))"
   ]
  },
  {
   "cell_type": "markdown",
   "id": "14ada7c2-26ff-467b-9856-2bae9d7b673f",
   "metadata": {},
   "source": [
    "Q3. Create a Python function called currency_converter() that takes two arguments:\n",
    "\n",
    "- amount: The amount of money to be converted (in USD).\n",
    "- exchange_rate (default is 280): The conversion rate from USD to another currency (e.g., PKR). You can assume the default rate is 1 USD = 280 PKR.\n",
    "- \n",
    "The function should return a message showing how much the given amount is worth in the target currency (PKR).\n",
    "\n",
    "Expected Output:\n",
    "\n",
    "'100 USD is equivalent to 28000 PKR'"
   ]
  },
  {
   "cell_type": "code",
   "execution_count": 3,
   "id": "e2f073a5-2cad-44c3-9b61-ab38ad9e24f1",
   "metadata": {},
   "outputs": [
    {
     "name": "stdout",
     "output_type": "stream",
     "text": [
      "100 USD is equivalent to 28000 PKR\n"
     ]
    }
   ],
   "source": [
    "def currency_converter(amount, exchange_rate=280):\n",
    "    converted = amount * exchange_rate\n",
    "    return f\"{amount} USD is equivalent to {converted} PKR\"\n",
    "\n",
    "print(currency_converter(100))"
   ]
  },
  {
   "cell_type": "markdown",
   "id": "2be859c9-23bb-4cff-abee-092295757847",
   "metadata": {},
   "source": [
    "Q4. Write a Python function display_student_info that accepts the following details about a student:\n",
    "\n",
    "- name (Keyword argument): The name of the student.\n",
    "- age (Keyword argument): The age of the student.\n",
    "- grade (Keyword argument): The grade the student is in.\n",
    "- school (Keyword argument): The name of the school the student attends.\n",
    "\n",
    "Expected Output:\n",
    "\n",
    "- Name: John Doe\n",
    "- Age: 15\n",
    "- Grade: 10th\n",
    "- School: Greenwood High"
   ]
  },
  {
   "cell_type": "code",
   "execution_count": 4,
   "id": "45adcf1b-e6b8-4e5c-9cf5-8b20a5356db2",
   "metadata": {},
   "outputs": [
    {
     "name": "stdout",
     "output_type": "stream",
     "text": [
      "Name: John Doe\n",
      "Age: 15\n",
      "Grade: 10th\n",
      "School: Greenwood High\n"
     ]
    }
   ],
   "source": [
    "def display_student_info(name, age, grade, school):\n",
    "    print(f\"Name: {name}\")\n",
    "    print(f\"Age: {age}\")\n",
    "    print(f\"Grade: {grade}\")\n",
    "    print(f\"School: {school}\")\n",
    "display_student_info(name=\"John Doe\", age=15, grade=\"10th\", school=\"Greenwood High\")"
   ]
  },
  {
   "cell_type": "markdown",
   "id": "6fa029c5-095c-463f-b29d-ff8469cbdfea",
   "metadata": {},
   "source": [
    "Q5. Write a Python function calculate_price that accepts two positional arguments:\n",
    "\n",
    "- price: The price of a single item.\n",
    "- quantity: The number of items bought.\n",
    "- The function should return the total price by multiplying price and quantity.\n"
   ]
  },
  {
   "cell_type": "code",
   "execution_count": 5,
   "id": "5268c989-0684-492d-8004-02d1da1093a1",
   "metadata": {},
   "outputs": [
    {
     "name": "stdout",
     "output_type": "stream",
     "text": [
      "Total Price: 150\n"
     ]
    }
   ],
   "source": [
    "def calculate_price(price, quantity):\n",
    "    return price * quantity\n",
    "\n",
    "print(\"Total Price:\", calculate_price(50, 3))"
   ]
  },
  {
   "cell_type": "markdown",
   "id": "b0952c84-56d3-478a-8772-ba5434fc4f2f",
   "metadata": {},
   "source": [
    "Q6. Write a Python function display_prices that takes a product name and an arbitrary number of keyword arguments representing product prices. The function should display each product and its price.\n",
    "\n",
    "Expected Output:\n",
    "\n",
    "Product: Laptop\n",
    "\n",
    "Amazon: $800\n",
    "\n",
    "eBay: $750\n",
    "\n",
    "Walmart: $780"
   ]
  },
  {
   "cell_type": "code",
   "execution_count": 6,
   "id": "0f954476-ec3b-45f4-8033-3490d713dc45",
   "metadata": {},
   "outputs": [
    {
     "name": "stdout",
     "output_type": "stream",
     "text": [
      "Product: Laptop\n",
      "Amazon: $800\n",
      "eBay: $750\n",
      "Walmart: $780\n"
     ]
    }
   ],
   "source": [
    "def display_prices(product_name, **prices):\n",
    "    print(f\"Product: {product_name}\")\n",
    "    for store, price in prices.items():\n",
    "        print(f\"{store}: ${price}\")\n",
    "\n",
    "display_prices(\"Laptop\", Amazon=800, eBay=750, Walmart=780)"
   ]
  },
  {
   "cell_type": "markdown",
   "id": "18d9013b-c0e4-4e14-82e7-6c0d03917322",
   "metadata": {},
   "source": [
    "Q7. Write a Python function find_max that takes arbitrary number of positional arguments and returns the maximum number."
   ]
  },
  {
   "cell_type": "code",
   "execution_count": 7,
   "id": "73aca6d1-054b-4fbe-9b74-c773b5225e85",
   "metadata": {},
   "outputs": [
    {
     "name": "stdout",
     "output_type": "stream",
     "text": [
      "Maximum: 50\n"
     ]
    }
   ],
   "source": [
    "def find_max(*numbers):\n",
    "    return max(numbers)\n",
    "    \n",
    "print(\"Maximum:\", find_max(10, 25, 7, 50, 3))"
   ]
  },
  {
   "cell_type": "markdown",
   "id": "5d99ddf7-24ba-4bc6-87fe-7ccabcdebeb4",
   "metadata": {},
   "source": [
    "Q8. \n",
    "\n",
    "Write a Python function calculate_rectangle that accepts the length and width of a rectangle as arguments. Inside this function, create two nested functions:\n",
    "\n",
    "- calculate_area: This function should calculate the area of the rectangle.\n",
    "- calculate_perimeter: This function should calculate the perimeter of the rectangle.\n",
    "- The main function should return both the area and the perimeter of the rectangle.\n",
    "\n",
    "Expected Output:\n",
    "\n",
    "Area: 15\n",
    "\n",
    "Perimeter: 16\n"
   ]
  },
  {
   "cell_type": "code",
   "execution_count": 8,
   "id": "7e8a6736-41c8-4ad2-b362-e22f3d71ac0d",
   "metadata": {},
   "outputs": [
    {
     "name": "stdout",
     "output_type": "stream",
     "text": [
      "Area: 15\n",
      "Perimeter: 16\n"
     ]
    }
   ],
   "source": [
    "def calculate_rectangle(length, width):\n",
    "    def calculate_area():\n",
    "        return length * width\n",
    "\n",
    "    def calculate_perimeter():\n",
    "        return 2 * (length + width)\n",
    "\n",
    "    return calculate_area(), calculate_perimeter()\n",
    "\n",
    "area, perimeter = calculate_rectangle(5, 3)\n",
    "print(\"Area:\", area)\n",
    "print(\"Perimeter:\", perimeter)"
   ]
  },
  {
   "cell_type": "markdown",
   "id": "a668489b-a207-48a6-904e-fb7c2859e04d",
   "metadata": {},
   "source": [
    "Q9. Write a Python function taxi_fare(distance, rate=100) that calculates the taxi fare.\n",
    "The default rate is 100 PKR per km, but the user can also enter a custom rate.\n",
    "\n",
    "FORMULA: distance * rate\n",
    "\n",
    "Expected Output:\n",
    "\n",
    "- Taxi fare for 10 km = 1000 PKR (using default parameter)\n",
    "- Taxi fare for 15 km = 1800 PKR (custom rate)"
   ]
  },
  {
   "cell_type": "code",
   "execution_count": 9,
   "id": "cf9fa81c-8158-4065-8d15-3da57f28e9b2",
   "metadata": {},
   "outputs": [
    {
     "name": "stdout",
     "output_type": "stream",
     "text": [
      "Taxi fare for 10 km = 1000 PKR\n",
      "Taxi fare for 15 km = 1800 PKR\n"
     ]
    }
   ],
   "source": [
    "def taxi_fare(distance, rate=100):\n",
    "    fare = distance * rate\n",
    "    return f\"Taxi fare for {distance} km = {fare} PKR\"\n",
    "print(taxi_fare(10))\n",
    "print(taxi_fare(15, rate=120))"
   ]
  },
  {
   "cell_type": "markdown",
   "id": "ed779581-c1bc-45a5-8971-687391e077a2",
   "metadata": {},
   "source": [
    "Q10.\n",
    "\n",
    "Write a Python function shopping_bill(price, quantity, discount=0) that uses nested functions:\n",
    "\n",
    "- An inner function calculate_total() → multiplies price * quantity.\n",
    "- An inner function apply_discount(total) → subtracts discount from total (but never below 0).\n",
    "\n",
    "The outer function should return the final bill amount.\n",
    "\n",
    "Expected Output:\n",
    "\n",
    "- Final Bill = 600 PKR (no discount)\n",
    "- Final Bill = 500 PKR (with discount)"
   ]
  },
  {
   "cell_type": "code",
   "execution_count": 10,
   "id": "ee0ac957-86e2-49bc-adc3-861ac984d055",
   "metadata": {},
   "outputs": [
    {
     "name": "stdout",
     "output_type": "stream",
     "text": [
      "Final Bill = 600 PKR\n",
      "Final Bill = 500 PKR\n"
     ]
    }
   ],
   "source": [
    "def shopping_bill(price, quantity, discount=0):\n",
    "    def calculate_total():\n",
    "        return price * quantity\n",
    "    def apply_discount(total):\n",
    "        return max(total - discount, 0)\n",
    "    total = calculate_total()\n",
    "    final_bill = apply_discount(total)\n",
    "    return f\"Final Bill = {final_bill} PKR\"\n",
    "print(shopping_bill(200, 3))\n",
    "print(shopping_bill(200, 3, discount=100))"
   ]
  }
 ],
 "metadata": {
  "kernelspec": {
   "display_name": "Python 3 (ipykernel)",
   "language": "python",
   "name": "python3"
  },
  "language_info": {
   "codemirror_mode": {
    "name": "ipython",
    "version": 3
   },
   "file_extension": ".py",
   "mimetype": "text/x-python",
   "name": "python",
   "nbconvert_exporter": "python",
   "pygments_lexer": "ipython3",
   "version": "3.13.5"
  }
 },
 "nbformat": 4,
 "nbformat_minor": 5
}
