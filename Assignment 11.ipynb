{
 "cells": [
  {
   "cell_type": "code",
   "execution_count": 1,
   "id": "a28958e4-9685-4455-8cf9-8d7a96e1cd1c",
   "metadata": {},
   "outputs": [],
   "source": [
    "import csv"
   ]
  },
  {
   "cell_type": "code",
   "execution_count": 2,
   "id": "5628ab2a-7fb1-432c-8670-c86024c16628",
   "metadata": {},
   "outputs": [
    {
     "data": {
      "text/plain": [
       "<_io.TextIOWrapper name='updated student data.csv' mode='r' encoding='cp1252'>"
      ]
     },
     "execution_count": 2,
     "metadata": {},
     "output_type": "execute_result"
    }
   ],
   "source": [
    "open_file = open('updated student data.csv', mode='r')\n",
    "open_file"
   ]
  },
  {
   "cell_type": "code",
   "execution_count": 3,
   "id": "08a47c6f-7dcb-43e5-9d72-a0c0d6461a19",
   "metadata": {},
   "outputs": [
    {
     "data": {
      "text/plain": [
       "<_csv.reader at 0x17e552393c0>"
      ]
     },
     "execution_count": 3,
     "metadata": {},
     "output_type": "execute_result"
    }
   ],
   "source": [
    "reader = csv.reader(open_file)\n",
    "reader"
   ]
  },
  {
   "cell_type": "code",
   "execution_count": 4,
   "id": "7a8b6c7f-9046-469e-bfa0-bfb6f31fff80",
   "metadata": {},
   "outputs": [
    {
     "data": {
      "text/plain": [
       "[['roll no', 'Name', 'Chemistry', 'Physics', 'Math', 'Percentage'],\n",
       " ['101', 'Aliza', '50', '23', '87', '53.33'],\n",
       " ['102', 'Fareed', '45', '24', '88', '52.33'],\n",
       " ['103', 'Basit', '46', '25', '89', '53.33'],\n",
       " ['104', 'Abdullah', '47', '26', '90', '54.33'],\n",
       " ['105', 'Ali', '48', '27', '67', '47.33'],\n",
       " ['106', 'Mubashir', '49', '28', '68', '48.33'],\n",
       " ['107', 'Waleed', '50', '29', '69', '49.33'],\n",
       " ['108', 'Mansoor', '51', '30', '70', '50.33'],\n",
       " ['109', 'Zain', '52', '31', '71', '51.33'],\n",
       " ['110', 'Mohsin', '53', '67', '72', '64.0'],\n",
       " ['111', 'Shahmeer', '54', '68', '73', '65.0'],\n",
       " ['112', 'Rao', '55', '69', '74', '66.0'],\n",
       " ['113', 'Aurangzeb', '56', '70', '75', '67.0'],\n",
       " ['114', 'Zeeshan', '57', '71', '76', '68.0'],\n",
       " ['115', 'Hamna', '58', '72', '77', '69.0'],\n",
       " ['116', 'Hamza', '59', '73', '78', '70.0'],\n",
       " ['117', 'Khalid', '60', '74', '79', '71.0'],\n",
       " ['118', 'Behroz', '61', '75', '80', '72.0'],\n",
       " ['119', 'Justin', '62', '76', '81', '73.0'],\n",
       " ['120', 'Danish', '63', '77', '82', '74.0'],\n",
       " ['121', 'Kainat', '64', '78', '83', '75.0'],\n",
       " ['122', 'Sameer', '65', '79', '84', '76.0'],\n",
       " ['123', 'Raza', '66', '80', '85', '77.0'],\n",
       " ['124', 'Kumar', '67', '81', '86', '78.0'],\n",
       " ['125', 'Komal', '68', '82', '87', '79.0'],\n",
       " ['126', 'Erum', '69', '83', '88', '80.0'],\n",
       " ['127', 'Faiza', '70', '84', '89', '81.0'],\n",
       " ['128', 'Saeed', '71', '85', '90', '82.0'],\n",
       " ['129', 'Waqar', '72', '86', '91', '83.0'],\n",
       " ['130', 'Wali', '73', '87', '92', '84.0'],\n",
       " ['131', 'Wajid', '74', '88', '93', '85.0'],\n",
       " ['132', 'Waseeb', '75', '89', '94', '86.0'],\n",
       " ['133', 'Shiza', '76', '90', '95', '87.0'],\n",
       " ['134', 'Shabina', '77', '91', '96', '88.0'],\n",
       " ['135', 'Shazain', '78', '55', '97', '76.67'],\n",
       " ['136', 'Lubna', '79', '61', '98', '79.33'],\n",
       " ['137', 'Laiba', '80', '88', '78', '82.0'],\n",
       " ['138', 'Khursheed', '81', '56', '45', '60.67'],\n",
       " ['139', 'Ali', '82', '89', '46', '72.33'],\n",
       " ['140', 'Aiza', '83', '45', '89', '72.33'],\n",
       " ['141', 'Aiman', '84', '92', '78', '84.67'],\n",
       " ['142', 'Yasmeen', '85', '36', '56', '59.0'],\n",
       " ['143', 'Tasbeel', '86', '78', '78', '80.67'],\n",
       " ['144', 'Laraib', '87', '56', '54', '65.67'],\n",
       " ['145', 'Saleem', '88', '78', '78', '81.33'],\n",
       " ['146', 'Bismil', '89', '89', '46', '74.67'],\n",
       " ['147', 'Batool', '90', '56', '79', '75.0'],\n",
       " ['148', 'Iqra', '91', '33', '46', '56.67'],\n",
       " ['149', 'Zarnish', '92', '78', '45', '71.67'],\n",
       " ['150', 'Zara', '83', '45', '56', '61.33']]"
      ]
     },
     "execution_count": 4,
     "metadata": {},
     "output_type": "execute_result"
    }
   ],
   "source": [
    "data = list(reader)\n",
    "data"
   ]
  },
  {
   "cell_type": "code",
   "execution_count": 5,
   "id": "90ef6fcc-511d-4652-8273-8a8eb81190d2",
   "metadata": {},
   "outputs": [
    {
     "data": {
      "text/plain": [
       "['roll no', 'Name', 'Chemistry', 'Physics', 'Math', 'Percentage']"
      ]
     },
     "execution_count": 5,
     "metadata": {},
     "output_type": "execute_result"
    }
   ],
   "source": [
    "header = data[0]\n",
    "header"
   ]
  },
  {
   "cell_type": "code",
   "execution_count": 6,
   "id": "3ef5aa10-05d4-442f-9a90-a6902284316f",
   "metadata": {},
   "outputs": [],
   "source": [
    "def calculate_grade(percentage):\n",
    "    percentage = float(percentage)\n",
    "    if 80 <= percentage <= 100:\n",
    "        return 'A'\n",
    "    elif 70 <= percentage < 80:\n",
    "        return 'B'\n",
    "    elif 60 <= percentage < 70:\n",
    "        return 'C'\n",
    "    elif 50 <= percentage < 60:\n",
    "        return 'D'\n",
    "    elif 0 <= percentage < 50:\n",
    "        return 'F'"
   ]
  },
  {
   "cell_type": "code",
   "execution_count": 7,
   "id": "91c115e3-2f3a-4375-b88c-e01575de4b93",
   "metadata": {},
   "outputs": [],
   "source": [
    "for i in data[1:]:\n",
    "    Percentage = float(i[5])    \n",
    "    Grade = calculate_grade(Percentage)\n",
    "    i.append(Grade)"
   ]
  },
  {
   "cell_type": "code",
   "execution_count": 8,
   "id": "71260b7b-f9ad-4c68-9651-00ccfa4e8102",
   "metadata": {},
   "outputs": [
    {
     "data": {
      "text/plain": [
       "[['roll no', 'Name', 'Chemistry', 'Physics', 'Math', 'Percentage'],\n",
       " ['101', 'Aliza', '50', '23', '87', '53.33', 'D'],\n",
       " ['102', 'Fareed', '45', '24', '88', '52.33', 'D'],\n",
       " ['103', 'Basit', '46', '25', '89', '53.33', 'D'],\n",
       " ['104', 'Abdullah', '47', '26', '90', '54.33', 'D'],\n",
       " ['105', 'Ali', '48', '27', '67', '47.33', 'F'],\n",
       " ['106', 'Mubashir', '49', '28', '68', '48.33', 'F'],\n",
       " ['107', 'Waleed', '50', '29', '69', '49.33', 'F'],\n",
       " ['108', 'Mansoor', '51', '30', '70', '50.33', 'D'],\n",
       " ['109', 'Zain', '52', '31', '71', '51.33', 'D'],\n",
       " ['110', 'Mohsin', '53', '67', '72', '64.0', 'C'],\n",
       " ['111', 'Shahmeer', '54', '68', '73', '65.0', 'C'],\n",
       " ['112', 'Rao', '55', '69', '74', '66.0', 'C'],\n",
       " ['113', 'Aurangzeb', '56', '70', '75', '67.0', 'C'],\n",
       " ['114', 'Zeeshan', '57', '71', '76', '68.0', 'C'],\n",
       " ['115', 'Hamna', '58', '72', '77', '69.0', 'C'],\n",
       " ['116', 'Hamza', '59', '73', '78', '70.0', 'B'],\n",
       " ['117', 'Khalid', '60', '74', '79', '71.0', 'B'],\n",
       " ['118', 'Behroz', '61', '75', '80', '72.0', 'B'],\n",
       " ['119', 'Justin', '62', '76', '81', '73.0', 'B'],\n",
       " ['120', 'Danish', '63', '77', '82', '74.0', 'B'],\n",
       " ['121', 'Kainat', '64', '78', '83', '75.0', 'B'],\n",
       " ['122', 'Sameer', '65', '79', '84', '76.0', 'B'],\n",
       " ['123', 'Raza', '66', '80', '85', '77.0', 'B'],\n",
       " ['124', 'Kumar', '67', '81', '86', '78.0', 'B'],\n",
       " ['125', 'Komal', '68', '82', '87', '79.0', 'B'],\n",
       " ['126', 'Erum', '69', '83', '88', '80.0', 'A'],\n",
       " ['127', 'Faiza', '70', '84', '89', '81.0', 'A'],\n",
       " ['128', 'Saeed', '71', '85', '90', '82.0', 'A'],\n",
       " ['129', 'Waqar', '72', '86', '91', '83.0', 'A'],\n",
       " ['130', 'Wali', '73', '87', '92', '84.0', 'A'],\n",
       " ['131', 'Wajid', '74', '88', '93', '85.0', 'A'],\n",
       " ['132', 'Waseeb', '75', '89', '94', '86.0', 'A'],\n",
       " ['133', 'Shiza', '76', '90', '95', '87.0', 'A'],\n",
       " ['134', 'Shabina', '77', '91', '96', '88.0', 'A'],\n",
       " ['135', 'Shazain', '78', '55', '97', '76.67', 'B'],\n",
       " ['136', 'Lubna', '79', '61', '98', '79.33', 'B'],\n",
       " ['137', 'Laiba', '80', '88', '78', '82.0', 'A'],\n",
       " ['138', 'Khursheed', '81', '56', '45', '60.67', 'C'],\n",
       " ['139', 'Ali', '82', '89', '46', '72.33', 'B'],\n",
       " ['140', 'Aiza', '83', '45', '89', '72.33', 'B'],\n",
       " ['141', 'Aiman', '84', '92', '78', '84.67', 'A'],\n",
       " ['142', 'Yasmeen', '85', '36', '56', '59.0', 'D'],\n",
       " ['143', 'Tasbeel', '86', '78', '78', '80.67', 'A'],\n",
       " ['144', 'Laraib', '87', '56', '54', '65.67', 'C'],\n",
       " ['145', 'Saleem', '88', '78', '78', '81.33', 'A'],\n",
       " ['146', 'Bismil', '89', '89', '46', '74.67', 'B'],\n",
       " ['147', 'Batool', '90', '56', '79', '75.0', 'B'],\n",
       " ['148', 'Iqra', '91', '33', '46', '56.67', 'D'],\n",
       " ['149', 'Zarnish', '92', '78', '45', '71.67', 'B'],\n",
       " ['150', 'Zara', '83', '45', '56', '61.33', 'C']]"
      ]
     },
     "execution_count": 8,
     "metadata": {},
     "output_type": "execute_result"
    }
   ],
   "source": [
    "data"
   ]
  },
  {
   "cell_type": "code",
   "execution_count": 9,
   "id": "2511af73-ceff-4196-8ff1-db3bf69529aa",
   "metadata": {},
   "outputs": [],
   "source": [
    "header.append('Grade')"
   ]
  },
  {
   "cell_type": "code",
   "execution_count": 10,
   "id": "b41cc102-699f-42b9-a353-8d063a9931fa",
   "metadata": {},
   "outputs": [
    {
     "data": {
      "text/plain": [
       "['roll no', 'Name', 'Chemistry', 'Physics', 'Math', 'Percentage', 'Grade']"
      ]
     },
     "execution_count": 10,
     "metadata": {},
     "output_type": "execute_result"
    }
   ],
   "source": [
    "data[0]"
   ]
  },
  {
   "cell_type": "code",
   "execution_count": 11,
   "id": "bcc7a820-c492-44fa-9530-1cb45110b28d",
   "metadata": {},
   "outputs": [
    {
     "data": {
      "text/plain": [
       "[['roll no', 'Name', 'Chemistry', 'Physics', 'Math', 'Percentage', 'Grade'],\n",
       " ['101', 'Aliza', '50', '23', '87', '53.33', 'D'],\n",
       " ['102', 'Fareed', '45', '24', '88', '52.33', 'D'],\n",
       " ['103', 'Basit', '46', '25', '89', '53.33', 'D'],\n",
       " ['104', 'Abdullah', '47', '26', '90', '54.33', 'D'],\n",
       " ['105', 'Ali', '48', '27', '67', '47.33', 'F'],\n",
       " ['106', 'Mubashir', '49', '28', '68', '48.33', 'F'],\n",
       " ['107', 'Waleed', '50', '29', '69', '49.33', 'F'],\n",
       " ['108', 'Mansoor', '51', '30', '70', '50.33', 'D'],\n",
       " ['109', 'Zain', '52', '31', '71', '51.33', 'D'],\n",
       " ['110', 'Mohsin', '53', '67', '72', '64.0', 'C'],\n",
       " ['111', 'Shahmeer', '54', '68', '73', '65.0', 'C'],\n",
       " ['112', 'Rao', '55', '69', '74', '66.0', 'C'],\n",
       " ['113', 'Aurangzeb', '56', '70', '75', '67.0', 'C'],\n",
       " ['114', 'Zeeshan', '57', '71', '76', '68.0', 'C'],\n",
       " ['115', 'Hamna', '58', '72', '77', '69.0', 'C'],\n",
       " ['116', 'Hamza', '59', '73', '78', '70.0', 'B'],\n",
       " ['117', 'Khalid', '60', '74', '79', '71.0', 'B'],\n",
       " ['118', 'Behroz', '61', '75', '80', '72.0', 'B'],\n",
       " ['119', 'Justin', '62', '76', '81', '73.0', 'B'],\n",
       " ['120', 'Danish', '63', '77', '82', '74.0', 'B'],\n",
       " ['121', 'Kainat', '64', '78', '83', '75.0', 'B'],\n",
       " ['122', 'Sameer', '65', '79', '84', '76.0', 'B'],\n",
       " ['123', 'Raza', '66', '80', '85', '77.0', 'B'],\n",
       " ['124', 'Kumar', '67', '81', '86', '78.0', 'B'],\n",
       " ['125', 'Komal', '68', '82', '87', '79.0', 'B'],\n",
       " ['126', 'Erum', '69', '83', '88', '80.0', 'A'],\n",
       " ['127', 'Faiza', '70', '84', '89', '81.0', 'A'],\n",
       " ['128', 'Saeed', '71', '85', '90', '82.0', 'A'],\n",
       " ['129', 'Waqar', '72', '86', '91', '83.0', 'A'],\n",
       " ['130', 'Wali', '73', '87', '92', '84.0', 'A'],\n",
       " ['131', 'Wajid', '74', '88', '93', '85.0', 'A'],\n",
       " ['132', 'Waseeb', '75', '89', '94', '86.0', 'A'],\n",
       " ['133', 'Shiza', '76', '90', '95', '87.0', 'A'],\n",
       " ['134', 'Shabina', '77', '91', '96', '88.0', 'A'],\n",
       " ['135', 'Shazain', '78', '55', '97', '76.67', 'B'],\n",
       " ['136', 'Lubna', '79', '61', '98', '79.33', 'B'],\n",
       " ['137', 'Laiba', '80', '88', '78', '82.0', 'A'],\n",
       " ['138', 'Khursheed', '81', '56', '45', '60.67', 'C'],\n",
       " ['139', 'Ali', '82', '89', '46', '72.33', 'B'],\n",
       " ['140', 'Aiza', '83', '45', '89', '72.33', 'B'],\n",
       " ['141', 'Aiman', '84', '92', '78', '84.67', 'A'],\n",
       " ['142', 'Yasmeen', '85', '36', '56', '59.0', 'D'],\n",
       " ['143', 'Tasbeel', '86', '78', '78', '80.67', 'A'],\n",
       " ['144', 'Laraib', '87', '56', '54', '65.67', 'C'],\n",
       " ['145', 'Saleem', '88', '78', '78', '81.33', 'A'],\n",
       " ['146', 'Bismil', '89', '89', '46', '74.67', 'B'],\n",
       " ['147', 'Batool', '90', '56', '79', '75.0', 'B'],\n",
       " ['148', 'Iqra', '91', '33', '46', '56.67', 'D'],\n",
       " ['149', 'Zarnish', '92', '78', '45', '71.67', 'B'],\n",
       " ['150', 'Zara', '83', '45', '56', '61.33', 'C']]"
      ]
     },
     "execution_count": 11,
     "metadata": {},
     "output_type": "execute_result"
    }
   ],
   "source": [
    "data"
   ]
  },
  {
   "cell_type": "code",
   "execution_count": 12,
   "id": "6de42041-2dc1-4f22-a5a2-e2bc7dc94e98",
   "metadata": {},
   "outputs": [
    {
     "data": {
      "text/plain": [
       "<_io.TextIOWrapper name='Student data including grade.csv' mode='w' encoding='cp1252'>"
      ]
     },
     "execution_count": 12,
     "metadata": {},
     "output_type": "execute_result"
    }
   ],
   "source": [
    "updated = open('Student data including grade.csv', mode='w', newline='')\n",
    "updated"
   ]
  },
  {
   "cell_type": "code",
   "execution_count": 13,
   "id": "a001a1f1-4a5e-462a-9b9b-49210c0af7e2",
   "metadata": {},
   "outputs": [
    {
     "data": {
      "text/plain": [
       "<_csv.writer at 0x17e552397e0>"
      ]
     },
     "execution_count": 13,
     "metadata": {},
     "output_type": "execute_result"
    }
   ],
   "source": [
    "writer = csv.writer(updated)\n",
    "writer"
   ]
  },
  {
   "cell_type": "code",
   "execution_count": 14,
   "id": "970ac9fb-f826-420c-87d2-0c62cc77f7f8",
   "metadata": {},
   "outputs": [],
   "source": [
    "writer.writerows(data)\n",
    "updated.close()"
   ]
  },
  {
   "cell_type": "code",
   "execution_count": null,
   "id": "b8bd9a33-e1d0-4ee4-abb4-6566a10642f2",
   "metadata": {},
   "outputs": [],
   "source": []
  }
 ],
 "metadata": {
  "kernelspec": {
   "display_name": "Python 3 (ipykernel)",
   "language": "python",
   "name": "python3"
  },
  "language_info": {
   "codemirror_mode": {
    "name": "ipython",
    "version": 3
   },
   "file_extension": ".py",
   "mimetype": "text/x-python",
   "name": "python",
   "nbconvert_exporter": "python",
   "pygments_lexer": "ipython3",
   "version": "3.13.5"
  }
 },
 "nbformat": 4,
 "nbformat_minor": 5
}
