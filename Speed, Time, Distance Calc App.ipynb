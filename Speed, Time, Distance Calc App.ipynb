{
 "cells": [
  {
   "cell_type": "markdown",
   "id": "f9948c19-2ef0-4e33-a4ef-60f600110849",
   "metadata": {},
   "source": [
    "Write a Python program to calculate Speed, Distance, or Time based on user input.\n",
    "\n",
    "### Program Title:\n",
    "\n",
    "Speed, Distance, and Time Calculator\n",
    "\n",
    "### Program Objective:\n",
    "\n",
    "To develop a program that calculates Speed, Distance, or Time based on the user’s choice and input values, using the standard motion formulas.\n",
    "\n",
    "### Introduction:\n",
    "\n",
    "This program helps users calculate one of the three motion parameters — Speed, Distance, or Time — when the other two are known.\n",
    "\n",
    "The formulas used are:\n",
    "\n",
    "- Speed = Distance / Time\n",
    "\n",
    "- Distance = Speed × Time\n",
    "\n",
    "- Time = Distance / Speed\n",
    "\n",
    "The program provides a menu-driven system where the user can choose what to calculate. It also includes error handling for invalid inputs, negative values, and division by zero.\n",
    "\n",
    "#### Program Logic:\n",
    "\n",
    "Start the Program\n",
    "\n",
    "Display Menu Options:\n",
    "\n",
    "1. Calculate Speed\n",
    "2. Calculate Distance\n",
    "3. Calculate Time\n",
    "4. Exit\n",
    "\n",
    "\n",
    "Ask the user to choose an option (1–4).\n",
    "\n",
    "Based on the user’s choice:\n",
    "\n",
    "If choice = 1 (Speed):\n",
    "\n",
    "Input: Distance, Time\n",
    "\n",
    "Check if inputs are positive and Time ≠ 0\n",
    "\n",
    "Formula: Speed = Distance / Time\n",
    "\n",
    "Display Speed\n",
    "\n",
    "If choice = 2 (Distance):\n",
    "\n",
    "Input: Speed, Time\n",
    "\n",
    "Check if inputs are positive\n",
    "\n",
    "Formula: Distance = Speed × Time\n",
    "\n",
    "Display Distance\n",
    "\n",
    "If choice = 3 (Time):\n",
    "\n",
    "Input: Distance, Speed\n",
    "\n",
    "Check if inputs are positive and Speed ≠ 0\n",
    "\n",
    "Formula: Time = Distance / Speed\n",
    "\n",
    "Display Time\n",
    "\n",
    "If choice = 4 (Exit):\n",
    "\n",
    "Display a goodbye message\n",
    "\n",
    "Stop the program\n",
    "\n",
    "If the user enters an invalid choice:\n",
    "\n",
    "Display an error message\n",
    "\n",
    "Show the menu again\n",
    "\n",
    "Repeat the process until the user selects \"Exit\"."
   ]
  },
  {
   "cell_type": "code",
   "execution_count": 3,
   "id": "16a6693c-82f6-4a81-a9e9-d4cd752114ea",
   "metadata": {},
   "outputs": [
    {
     "name": "stdout",
     "output_type": "stream",
     "text": [
      "\n",
      "Speed, Distance, and Time Calculator\n",
      "1. Calculate Speed\n",
      "2. Calculate Distance\n",
      "3. Calculate Time\n",
      "4. Exit\n"
     ]
    },
    {
     "name": "stdin",
     "output_type": "stream",
     "text": [
      "Please choose an option (1-4):  1\n"
     ]
    },
    {
     "name": "stdout",
     "output_type": "stream",
     "text": [
      "Please choose an option (1-4): 1\n"
     ]
    },
    {
     "name": "stdin",
     "output_type": "stream",
     "text": [
      "Enter distance:  20\n"
     ]
    },
    {
     "name": "stdout",
     "output_type": "stream",
     "text": [
      "Enter distance: 20.0\n"
     ]
    },
    {
     "name": "stdin",
     "output_type": "stream",
     "text": [
      "Enter time:  30\n"
     ]
    },
    {
     "name": "stdout",
     "output_type": "stream",
     "text": [
      "Enter time: 30.0\n",
      "The calculated speed is: 0.6666666666666666 units.\n",
      "\n",
      "Speed, Distance, and Time Calculator\n",
      "1. Calculate Speed\n",
      "2. Calculate Distance\n",
      "3. Calculate Time\n",
      "4. Exit\n"
     ]
    },
    {
     "name": "stdin",
     "output_type": "stream",
     "text": [
      "Please choose an option (1-4):  2\n"
     ]
    },
    {
     "name": "stdout",
     "output_type": "stream",
     "text": [
      "Please choose an option (1-4): 2\n"
     ]
    },
    {
     "name": "stdin",
     "output_type": "stream",
     "text": [
      "Enter speed:  35\n"
     ]
    },
    {
     "name": "stdout",
     "output_type": "stream",
     "text": [
      "Enter speed: 35.0\n"
     ]
    },
    {
     "name": "stdin",
     "output_type": "stream",
     "text": [
      "Enter time:  25\n"
     ]
    },
    {
     "name": "stdout",
     "output_type": "stream",
     "text": [
      "Enter time: 25.0\n",
      "The calculated distance is: 875.0 units.\n",
      "\n",
      "Speed, Distance, and Time Calculator\n",
      "1. Calculate Speed\n",
      "2. Calculate Distance\n",
      "3. Calculate Time\n",
      "4. Exit\n"
     ]
    },
    {
     "name": "stdin",
     "output_type": "stream",
     "text": [
      "Please choose an option (1-4):  3\n"
     ]
    },
    {
     "name": "stdout",
     "output_type": "stream",
     "text": [
      "Please choose an option (1-4): 3\n"
     ]
    },
    {
     "name": "stdin",
     "output_type": "stream",
     "text": [
      "Enter distance:  50\n"
     ]
    },
    {
     "name": "stdout",
     "output_type": "stream",
     "text": [
      "Enter distance: 50.0\n"
     ]
    },
    {
     "name": "stdin",
     "output_type": "stream",
     "text": [
      "Enter speed:  35\n"
     ]
    },
    {
     "name": "stdout",
     "output_type": "stream",
     "text": [
      "Enter speed: 35.0\n",
      "The calculated time is: 1.4285714285714286 units.\n",
      "\n",
      "Speed, Distance, and Time Calculator\n",
      "1. Calculate Speed\n",
      "2. Calculate Distance\n",
      "3. Calculate Time\n",
      "4. Exit\n"
     ]
    },
    {
     "name": "stdin",
     "output_type": "stream",
     "text": [
      "Please choose an option (1-4):  5\n"
     ]
    },
    {
     "name": "stdout",
     "output_type": "stream",
     "text": [
      "Please choose an option (1-4): 5\n",
      "Invalid choice! Please choose a valid option between 1 and 4.\n",
      "\n",
      "Speed, Distance, and Time Calculator\n",
      "1. Calculate Speed\n",
      "2. Calculate Distance\n",
      "3. Calculate Time\n",
      "4. Exit\n"
     ]
    },
    {
     "name": "stdin",
     "output_type": "stream",
     "text": [
      "Please choose an option (1-4):  4\n"
     ]
    },
    {
     "name": "stdout",
     "output_type": "stream",
     "text": [
      "Please choose an option (1-4): 4\n",
      "Thank you for using the Speed, Distance, and Time Calculator. Goodbye!\n"
     ]
    }
   ],
   "source": [
    "def main():\n",
    "    while True:\n",
    "        print(\"\\nSpeed, Distance, and Time Calculator\")\n",
    "        print(\"1. Calculate Speed\")\n",
    "        print(\"2. Calculate Distance\")\n",
    "        print(\"3. Calculate Time\")\n",
    "        print(\"4. Exit\")\n",
    "        \n",
    "        choice = input(\"Please choose an option (1-4): \")\n",
    "        print(\"Please choose an option (1-4):\",choice)\n",
    "\n",
    "        if choice == '1': \n",
    "            distance = float(input(\"Enter distance: \"))\n",
    "            print(\"Enter distance:\",distance)\n",
    "            time = float(input(\"Enter time: \"))\n",
    "            print(\"Enter time:\",time)\n",
    "            if time != 0:\n",
    "                speed = distance / time\n",
    "                print(f\"The calculated speed is: {speed} units.\")\n",
    "            else:\n",
    "                print(\"Error: Time cannot be zero.\")\n",
    "        \n",
    "        elif choice == '2':\n",
    "            speed = float(input(\"Enter speed: \"))\n",
    "            print(\"Enter speed:\",speed)\n",
    "            time = float(input(\"Enter time: \"))\n",
    "            print(\"Enter time:\",time)\n",
    "            distance = speed * time\n",
    "            print(f\"The calculated distance is: {distance} units.\")\n",
    "        \n",
    "        elif choice == '3':\n",
    "            distance = float(input(\"Enter distance: \"))\n",
    "            print(\"Enter distance:\",distance)\n",
    "            speed = float(input(\"Enter speed: \"))\n",
    "            print(\"Enter speed:\",speed)\n",
    "            if speed != 0:\n",
    "                time = distance / speed\n",
    "                print(f\"The calculated time is: {time} units.\")\n",
    "            else:\n",
    "                print(\"Error: Speed cannot be zero.\")\n",
    "        \n",
    "        elif choice == '4':\n",
    "            print(\"Thank you for using the Speed, Distance, and Time Calculator. Goodbye!\")\n",
    "            break\n",
    "        \n",
    "        else:\n",
    "            print(\"Invalid choice! Please choose a valid option between 1 and 4.\")\n",
    "            \n",
    "if __name__ == \"__main__\":\n",
    "    main()"
   ]
  },
  {
   "cell_type": "code",
   "execution_count": null,
   "id": "2b5c0e23-2a6b-43ac-9380-e6e2d2a54ba4",
   "metadata": {},
   "outputs": [],
   "source": []
  }
 ],
 "metadata": {
  "kernelspec": {
   "display_name": "Python 3 (ipykernel)",
   "language": "python",
   "name": "python3"
  },
  "language_info": {
   "codemirror_mode": {
    "name": "ipython",
    "version": 3
   },
   "file_extension": ".py",
   "mimetype": "text/x-python",
   "name": "python",
   "nbconvert_exporter": "python",
   "pygments_lexer": "ipython3",
   "version": "3.13.5"
  }
 },
 "nbformat": 4,
 "nbformat_minor": 5
}
