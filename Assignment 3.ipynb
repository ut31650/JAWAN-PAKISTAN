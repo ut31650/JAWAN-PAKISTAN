{
 "cells": [
  {
   "cell_type": "markdown",
   "id": "6f757dad-66dd-44cb-b8cc-7ce63717f871",
   "metadata": {},
   "source": [
    "Q1\n",
    "\n",
    "animals = [\"cat\", \"dog\", \"rabbit\", \"tiger\", \"elephant\"]\n",
    "\n",
    "- Print \"tiger\" by indexing\n",
    "- Print \"rabbit by negative indexing\n",
    "- Print \"rabbit\" to \"elephant\" by slicing"
   ]
  },
  {
   "cell_type": "code",
   "execution_count": 1,
   "id": "2c805702-ff96-48ba-b746-0c233375768f",
   "metadata": {},
   "outputs": [
    {
     "name": "stdout",
     "output_type": "stream",
     "text": [
      "['cat', 'dog', 'rabbit', 'tiger', 'elephant']\n",
      "tiger\n",
      "rabbit\n",
      "['rabbit', 'tiger', 'elephant']\n"
     ]
    }
   ],
   "source": [
    "animals = [\"cat\", \"dog\", \"rabbit\", \"tiger\", \"elephant\"]\n",
    "print(animals)\n",
    "print(animals[3])\n",
    "print(animals[-3])\n",
    "print(animals[2:])"
   ]
  },
  {
   "cell_type": "markdown",
   "id": "1dee0f44-1f3a-4a99-8931-ffc7d9e4b70e",
   "metadata": {},
   "source": [
    "Q2.\n",
    "\n",
    "Add \"lion\" to the list of animals by list method append\n",
    "\n",
    "Remove \"rabbit\" from the list by list method remove\n",
    "\n",
    "Print the updated list."
   ]
  },
  {
   "cell_type": "code",
   "execution_count": 2,
   "id": "aa9ff7eb-aceb-4727-bf0a-cc7074fe92a3",
   "metadata": {},
   "outputs": [
    {
     "name": "stdout",
     "output_type": "stream",
     "text": [
      "['cat', 'dog', 'tiger', 'elephant', 'lion']\n"
     ]
    }
   ],
   "source": [
    "animals.append(\"lion\")\n",
    "animals.remove(\"rabbit\")\n",
    "print(animals)"
   ]
  },
  {
   "cell_type": "markdown",
   "id": "6487290b-aa44-49af-b148-8eda538416a9",
   "metadata": {},
   "source": [
    "Q3.\n",
    "\n",
    "basket = [[\"apple\", \"banana\", \"mango\"], [\"red\", \"blue\", \"green\", \"black\"]]\n",
    "\n",
    "- print list of fruits\n",
    "- print list of colors\n",
    "- print second fruit by negative indexing\n",
    "- replace color \"blue\" with \"white\"\n",
    "- print length of colors list\n"
   ]
  },
  {
   "cell_type": "code",
   "execution_count": 3,
   "id": "fca5e45e-7704-4593-8187-7209119dacea",
   "metadata": {},
   "outputs": [
    {
     "name": "stdout",
     "output_type": "stream",
     "text": [
      "['apple', 'banana', 'mango']\n",
      "['red', 'blue', 'green', 'black']\n",
      "banana\n",
      "['red', 'white', 'green', 'black']\n",
      "4\n"
     ]
    }
   ],
   "source": [
    "basket = [[\"apple\", \"banana\", \"mango\"], [\"red\", \"blue\", \"green\", \"black\"]]\n",
    "print(basket[0])\n",
    "print(basket[1])\n",
    "print(basket[0][-2])\n",
    "basket[1][1] = 'white'\n",
    "print(basket[1])\n",
    "print(len(basket[1]))"
   ]
  },
  {
   "cell_type": "markdown",
   "id": "a7f894ca-745e-4cbb-8625-a2b6448b48aa",
   "metadata": {},
   "source": [
    "Q4.\n",
    "\n",
    "food = [\"pizza\", \"burger\", \"fries\", \"burger\", \"pasta\", \"burger\", \"biryani\", \"fries]\n",
    "\n",
    "- Add \"sandwich\" to the end of the list.\n",
    "- Insert \"biryani\" at index 2.\n"
   ]
  },
  {
   "cell_type": "code",
   "execution_count": 4,
   "id": "c6767c90-3e75-4068-b373-b29f0aa22502",
   "metadata": {},
   "outputs": [
    {
     "name": "stdout",
     "output_type": "stream",
     "text": [
      "['pizza', 'burger', 'fries', 'burger', 'pasta', 'burger', 'biryani', 'fries']\n",
      "['pizza', 'burger', 'fries', 'burger', 'pasta', 'burger', 'biryani', 'fries', 'sandwich']\n",
      "['pizza', 'burger', 'biryani', 'fries', 'burger', 'pasta', 'burger', 'biryani', 'fries', 'sandwich']\n"
     ]
    }
   ],
   "source": [
    "food = [\"pizza\", \"burger\", \"fries\", \"burger\", \"pasta\", \"burger\", \"biryani\", \"fries\"]\n",
    "print(food)\n",
    "food.append(\"sandwich\")\n",
    "print(food)\n",
    "food.insert(2,\"biryani\")\n",
    "print(food)\n",
    "        "
   ]
  },
  {
   "cell_type": "markdown",
   "id": "c1126218-6a91-4e4e-9216-a7c73eeef712",
   "metadata": {},
   "source": [
    "Q5.\n",
    "\n",
    "- Sort the food list in alphabetical order\n",
    "- Reverse the order of the list food"
   ]
  },
  {
   "cell_type": "code",
   "execution_count": 5,
   "id": "6a5797d1-ea77-4f0f-9609-a46ce74e789f",
   "metadata": {},
   "outputs": [
    {
     "name": "stdout",
     "output_type": "stream",
     "text": [
      "['biryani', 'biryani', 'burger', 'burger', 'burger', 'fries', 'fries', 'pasta', 'pizza', 'sandwich']\n",
      "['sandwich', 'pizza', 'pasta', 'fries', 'fries', 'burger', 'burger', 'burger', 'biryani', 'biryani']\n"
     ]
    }
   ],
   "source": [
    "food.sort()\n",
    "print(food)\n",
    "food.reverse()\n",
    "print(food)"
   ]
  },
  {
   "cell_type": "markdown",
   "id": "461f6fa9-0eea-49e8-ab2b-cefee7f7d235",
   "metadata": {},
   "source": [
    "Q6.\n",
    "\n",
    "- Find the index of \"pasta\" and print it from the list of food\n",
    "- Count how many times \"pizza\" appears in list food"
   ]
  },
  {
   "cell_type": "code",
   "execution_count": 6,
   "id": "94ae1188-98e3-4168-a571-9aeba5b82831",
   "metadata": {},
   "outputs": [
    {
     "name": "stdout",
     "output_type": "stream",
     "text": [
      "4\n",
      "1\n"
     ]
    }
   ],
   "source": [
    "food = [\"pizza\", \"burger\", \"fries\", \"burger\", \"pasta\", \"burger\", \"biryani\", \"fries\"]\n",
    "print(food.index(\"pasta\"))\n",
    "print(food.count(\"pizza\"))\n"
   ]
  },
  {
   "cell_type": "markdown",
   "id": "099ef23b-3188-412d-8b3c-0021ac3cee53",
   "metadata": {},
   "source": [
    "Q7.\n",
    "\n",
    "- Remove \"burger\" (only the first one) from the list food.\n",
    "- Remove the last item using pop() and print it.\n",
    "\n"
   ]
  },
  {
   "cell_type": "code",
   "execution_count": 7,
   "id": "d6bce82e-55d8-48f5-a1d6-1f014f1b6c94",
   "metadata": {},
   "outputs": [
    {
     "name": "stdout",
     "output_type": "stream",
     "text": [
      "['pizza', 'fries', 'burger', 'pasta', 'burger', 'biryani', 'fries']\n",
      "fries\n",
      "['pizza', 'fries', 'burger', 'pasta', 'burger', 'biryani']\n"
     ]
    }
   ],
   "source": [
    "food.remove('burger')\n",
    "print(food)\n",
    "print(food.pop())\n",
    "print(food)"
   ]
  },
  {
   "cell_type": "markdown",
   "id": "648c2ce0-5a67-4e17-b3ac-5eb7587dee4b",
   "metadata": {},
   "source": [
    "Q8.\n",
    "\n",
    "- Make a copy of the list of food and name it my_food\n",
    "- Clear the original food list."
   ]
  },
  {
   "cell_type": "code",
   "execution_count": 8,
   "id": "3b2319c6-c3ef-4640-961b-da86a7c513f1",
   "metadata": {},
   "outputs": [
    {
     "name": "stdout",
     "output_type": "stream",
     "text": [
      "['pizza', 'fries', 'burger', 'pasta', 'burger', 'biryani']\n",
      "[]\n"
     ]
    }
   ],
   "source": [
    "my_food = food.copy()\n",
    "print(my_food)\n",
    "food.clear()\n",
    "print(food)"
   ]
  },
  {
   "cell_type": "markdown",
   "id": "acd0311b-d9bf-485d-a306-73b281094051",
   "metadata": {},
   "source": [
    "Q9.\n",
    "\n",
    "Count nested list [1,2] by count method\n",
    "\n",
    "data = [[1, 2],[3, 4],[1, 2],[2,4],[1, 2],[1,3,6]] \n"
   ]
  },
  {
   "cell_type": "code",
   "execution_count": 9,
   "id": "f25314e7-b53c-415c-8f2e-664c0477a330",
   "metadata": {},
   "outputs": [
    {
     "data": {
      "text/plain": [
       "3"
      ]
     },
     "execution_count": 9,
     "metadata": {},
     "output_type": "execute_result"
    }
   ],
   "source": [
    "data = [[1, 2],[3, 4],[1, 2],[2,4],[1, 2],[1,3,6]]\n",
    "data.count([1,2])"
   ]
  },
  {
   "cell_type": "markdown",
   "id": "3a8ca1b5-48c0-44e4-b54b-2d8fe3a7ab82",
   "metadata": {},
   "source": [
    "Q10.\n",
    "\n",
    "Replace 'cat' with 'found you'\n",
    "odd_item = ['almond','peanut'['onion','potato','tomato'['apple','mango','cherry',['cat'],'banana'],'lemon',],'walnut']"
   ]
  },
  {
   "cell_type": "code",
   "execution_count": 10,
   "id": "3a5bf4d3-3d3d-4f75-95b8-936337e20b0c",
   "metadata": {},
   "outputs": [
    {
     "name": "stdout",
     "output_type": "stream",
     "text": [
      "['almond', 'peanut', ['onion', 'potato', 'tomato', ['apple', 'mango', 'cherry', ['cat'], 'banana'], 'lemon'], 'walnut']\n",
      "['almond', 'peanut', ['onion', 'potato', 'tomato', ['apple', 'mango', 'cherry', ['foundyou'], 'banana'], 'lemon'], 'walnut']\n"
     ]
    }
   ],
   "source": [
    "odd_item = ['almond','peanut',['onion','potato','tomato',['apple','mango','cherry',['cat'],'banana'],'lemon'],'walnut']\n",
    "print(odd_item)\n",
    "odd_item[2][3][3][0] = 'foundyou'\n",
    "print(odd_item)\n"
   ]
  }
 ],
 "metadata": {
  "kernelspec": {
   "display_name": "Python 3 (ipykernel)",
   "language": "python",
   "name": "python3"
  },
  "language_info": {
   "codemirror_mode": {
    "name": "ipython",
    "version": 3
   },
   "file_extension": ".py",
   "mimetype": "text/x-python",
   "name": "python",
   "nbconvert_exporter": "python",
   "pygments_lexer": "ipython3",
   "version": "3.13.5"
  }
 },
 "nbformat": 4,
 "nbformat_minor": 5
}
