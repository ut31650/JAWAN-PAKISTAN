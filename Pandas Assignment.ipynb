{
 "cells": [
  {
   "cell_type": "code",
   "execution_count": 1,
   "id": "a61743a9-59bf-47c2-93ff-47fe925ddf15",
   "metadata": {},
   "outputs": [],
   "source": [
    "import pandas as pd"
   ]
  },
  {
   "cell_type": "code",
   "execution_count": 2,
   "id": "95d94d67-31e9-4d26-a45f-9065b4ece8d3",
   "metadata": {},
   "outputs": [
    {
     "ename": "FileNotFoundError",
     "evalue": "[Errno 2] No such file or directory: 'retail supermarket.csv'",
     "output_type": "error",
     "traceback": [
      "\u001b[1;31m---------------------------------------------------------------------------\u001b[0m",
      "\u001b[1;31mFileNotFoundError\u001b[0m                         Traceback (most recent call last)",
      "Cell \u001b[1;32mIn[2], line 1\u001b[0m\n\u001b[1;32m----> 1\u001b[0m df \u001b[38;5;241m=\u001b[39m pd\u001b[38;5;241m.\u001b[39mread_csv(\u001b[38;5;124m'\u001b[39m\u001b[38;5;124mretail supermarket.csv\u001b[39m\u001b[38;5;124m'\u001b[39m)\n\u001b[0;32m      2\u001b[0m df\n",
      "File \u001b[1;32m~\\anaconda3\\Lib\\site-packages\\pandas\\io\\parsers\\readers.py:1026\u001b[0m, in \u001b[0;36mread_csv\u001b[1;34m(filepath_or_buffer, sep, delimiter, header, names, index_col, usecols, dtype, engine, converters, true_values, false_values, skipinitialspace, skiprows, skipfooter, nrows, na_values, keep_default_na, na_filter, verbose, skip_blank_lines, parse_dates, infer_datetime_format, keep_date_col, date_parser, date_format, dayfirst, cache_dates, iterator, chunksize, compression, thousands, decimal, lineterminator, quotechar, quoting, doublequote, escapechar, comment, encoding, encoding_errors, dialect, on_bad_lines, delim_whitespace, low_memory, memory_map, float_precision, storage_options, dtype_backend)\u001b[0m\n\u001b[0;32m   1013\u001b[0m kwds_defaults \u001b[38;5;241m=\u001b[39m _refine_defaults_read(\n\u001b[0;32m   1014\u001b[0m     dialect,\n\u001b[0;32m   1015\u001b[0m     delimiter,\n\u001b[1;32m   (...)\u001b[0m\n\u001b[0;32m   1022\u001b[0m     dtype_backend\u001b[38;5;241m=\u001b[39mdtype_backend,\n\u001b[0;32m   1023\u001b[0m )\n\u001b[0;32m   1024\u001b[0m kwds\u001b[38;5;241m.\u001b[39mupdate(kwds_defaults)\n\u001b[1;32m-> 1026\u001b[0m \u001b[38;5;28;01mreturn\u001b[39;00m _read(filepath_or_buffer, kwds)\n",
      "File \u001b[1;32m~\\anaconda3\\Lib\\site-packages\\pandas\\io\\parsers\\readers.py:620\u001b[0m, in \u001b[0;36m_read\u001b[1;34m(filepath_or_buffer, kwds)\u001b[0m\n\u001b[0;32m    617\u001b[0m _validate_names(kwds\u001b[38;5;241m.\u001b[39mget(\u001b[38;5;124m\"\u001b[39m\u001b[38;5;124mnames\u001b[39m\u001b[38;5;124m\"\u001b[39m, \u001b[38;5;28;01mNone\u001b[39;00m))\n\u001b[0;32m    619\u001b[0m \u001b[38;5;66;03m# Create the parser.\u001b[39;00m\n\u001b[1;32m--> 620\u001b[0m parser \u001b[38;5;241m=\u001b[39m TextFileReader(filepath_or_buffer, \u001b[38;5;241m*\u001b[39m\u001b[38;5;241m*\u001b[39mkwds)\n\u001b[0;32m    622\u001b[0m \u001b[38;5;28;01mif\u001b[39;00m chunksize \u001b[38;5;129;01mor\u001b[39;00m iterator:\n\u001b[0;32m    623\u001b[0m     \u001b[38;5;28;01mreturn\u001b[39;00m parser\n",
      "File \u001b[1;32m~\\anaconda3\\Lib\\site-packages\\pandas\\io\\parsers\\readers.py:1620\u001b[0m, in \u001b[0;36mTextFileReader.__init__\u001b[1;34m(self, f, engine, **kwds)\u001b[0m\n\u001b[0;32m   1617\u001b[0m     \u001b[38;5;28mself\u001b[39m\u001b[38;5;241m.\u001b[39moptions[\u001b[38;5;124m\"\u001b[39m\u001b[38;5;124mhas_index_names\u001b[39m\u001b[38;5;124m\"\u001b[39m] \u001b[38;5;241m=\u001b[39m kwds[\u001b[38;5;124m\"\u001b[39m\u001b[38;5;124mhas_index_names\u001b[39m\u001b[38;5;124m\"\u001b[39m]\n\u001b[0;32m   1619\u001b[0m \u001b[38;5;28mself\u001b[39m\u001b[38;5;241m.\u001b[39mhandles: IOHandles \u001b[38;5;241m|\u001b[39m \u001b[38;5;28;01mNone\u001b[39;00m \u001b[38;5;241m=\u001b[39m \u001b[38;5;28;01mNone\u001b[39;00m\n\u001b[1;32m-> 1620\u001b[0m \u001b[38;5;28mself\u001b[39m\u001b[38;5;241m.\u001b[39m_engine \u001b[38;5;241m=\u001b[39m \u001b[38;5;28mself\u001b[39m\u001b[38;5;241m.\u001b[39m_make_engine(f, \u001b[38;5;28mself\u001b[39m\u001b[38;5;241m.\u001b[39mengine)\n",
      "File \u001b[1;32m~\\anaconda3\\Lib\\site-packages\\pandas\\io\\parsers\\readers.py:1880\u001b[0m, in \u001b[0;36mTextFileReader._make_engine\u001b[1;34m(self, f, engine)\u001b[0m\n\u001b[0;32m   1878\u001b[0m     \u001b[38;5;28;01mif\u001b[39;00m \u001b[38;5;124m\"\u001b[39m\u001b[38;5;124mb\u001b[39m\u001b[38;5;124m\"\u001b[39m \u001b[38;5;129;01mnot\u001b[39;00m \u001b[38;5;129;01min\u001b[39;00m mode:\n\u001b[0;32m   1879\u001b[0m         mode \u001b[38;5;241m+\u001b[39m\u001b[38;5;241m=\u001b[39m \u001b[38;5;124m\"\u001b[39m\u001b[38;5;124mb\u001b[39m\u001b[38;5;124m\"\u001b[39m\n\u001b[1;32m-> 1880\u001b[0m \u001b[38;5;28mself\u001b[39m\u001b[38;5;241m.\u001b[39mhandles \u001b[38;5;241m=\u001b[39m get_handle(\n\u001b[0;32m   1881\u001b[0m     f,\n\u001b[0;32m   1882\u001b[0m     mode,\n\u001b[0;32m   1883\u001b[0m     encoding\u001b[38;5;241m=\u001b[39m\u001b[38;5;28mself\u001b[39m\u001b[38;5;241m.\u001b[39moptions\u001b[38;5;241m.\u001b[39mget(\u001b[38;5;124m\"\u001b[39m\u001b[38;5;124mencoding\u001b[39m\u001b[38;5;124m\"\u001b[39m, \u001b[38;5;28;01mNone\u001b[39;00m),\n\u001b[0;32m   1884\u001b[0m     compression\u001b[38;5;241m=\u001b[39m\u001b[38;5;28mself\u001b[39m\u001b[38;5;241m.\u001b[39moptions\u001b[38;5;241m.\u001b[39mget(\u001b[38;5;124m\"\u001b[39m\u001b[38;5;124mcompression\u001b[39m\u001b[38;5;124m\"\u001b[39m, \u001b[38;5;28;01mNone\u001b[39;00m),\n\u001b[0;32m   1885\u001b[0m     memory_map\u001b[38;5;241m=\u001b[39m\u001b[38;5;28mself\u001b[39m\u001b[38;5;241m.\u001b[39moptions\u001b[38;5;241m.\u001b[39mget(\u001b[38;5;124m\"\u001b[39m\u001b[38;5;124mmemory_map\u001b[39m\u001b[38;5;124m\"\u001b[39m, \u001b[38;5;28;01mFalse\u001b[39;00m),\n\u001b[0;32m   1886\u001b[0m     is_text\u001b[38;5;241m=\u001b[39mis_text,\n\u001b[0;32m   1887\u001b[0m     errors\u001b[38;5;241m=\u001b[39m\u001b[38;5;28mself\u001b[39m\u001b[38;5;241m.\u001b[39moptions\u001b[38;5;241m.\u001b[39mget(\u001b[38;5;124m\"\u001b[39m\u001b[38;5;124mencoding_errors\u001b[39m\u001b[38;5;124m\"\u001b[39m, \u001b[38;5;124m\"\u001b[39m\u001b[38;5;124mstrict\u001b[39m\u001b[38;5;124m\"\u001b[39m),\n\u001b[0;32m   1888\u001b[0m     storage_options\u001b[38;5;241m=\u001b[39m\u001b[38;5;28mself\u001b[39m\u001b[38;5;241m.\u001b[39moptions\u001b[38;5;241m.\u001b[39mget(\u001b[38;5;124m\"\u001b[39m\u001b[38;5;124mstorage_options\u001b[39m\u001b[38;5;124m\"\u001b[39m, \u001b[38;5;28;01mNone\u001b[39;00m),\n\u001b[0;32m   1889\u001b[0m )\n\u001b[0;32m   1890\u001b[0m \u001b[38;5;28;01massert\u001b[39;00m \u001b[38;5;28mself\u001b[39m\u001b[38;5;241m.\u001b[39mhandles \u001b[38;5;129;01mis\u001b[39;00m \u001b[38;5;129;01mnot\u001b[39;00m \u001b[38;5;28;01mNone\u001b[39;00m\n\u001b[0;32m   1891\u001b[0m f \u001b[38;5;241m=\u001b[39m \u001b[38;5;28mself\u001b[39m\u001b[38;5;241m.\u001b[39mhandles\u001b[38;5;241m.\u001b[39mhandle\n",
      "File \u001b[1;32m~\\anaconda3\\Lib\\site-packages\\pandas\\io\\common.py:873\u001b[0m, in \u001b[0;36mget_handle\u001b[1;34m(path_or_buf, mode, encoding, compression, memory_map, is_text, errors, storage_options)\u001b[0m\n\u001b[0;32m    868\u001b[0m \u001b[38;5;28;01melif\u001b[39;00m \u001b[38;5;28misinstance\u001b[39m(handle, \u001b[38;5;28mstr\u001b[39m):\n\u001b[0;32m    869\u001b[0m     \u001b[38;5;66;03m# Check whether the filename is to be opened in binary mode.\u001b[39;00m\n\u001b[0;32m    870\u001b[0m     \u001b[38;5;66;03m# Binary mode does not support 'encoding' and 'newline'.\u001b[39;00m\n\u001b[0;32m    871\u001b[0m     \u001b[38;5;28;01mif\u001b[39;00m ioargs\u001b[38;5;241m.\u001b[39mencoding \u001b[38;5;129;01mand\u001b[39;00m \u001b[38;5;124m\"\u001b[39m\u001b[38;5;124mb\u001b[39m\u001b[38;5;124m\"\u001b[39m \u001b[38;5;129;01mnot\u001b[39;00m \u001b[38;5;129;01min\u001b[39;00m ioargs\u001b[38;5;241m.\u001b[39mmode:\n\u001b[0;32m    872\u001b[0m         \u001b[38;5;66;03m# Encoding\u001b[39;00m\n\u001b[1;32m--> 873\u001b[0m         handle \u001b[38;5;241m=\u001b[39m \u001b[38;5;28mopen\u001b[39m(\n\u001b[0;32m    874\u001b[0m             handle,\n\u001b[0;32m    875\u001b[0m             ioargs\u001b[38;5;241m.\u001b[39mmode,\n\u001b[0;32m    876\u001b[0m             encoding\u001b[38;5;241m=\u001b[39mioargs\u001b[38;5;241m.\u001b[39mencoding,\n\u001b[0;32m    877\u001b[0m             errors\u001b[38;5;241m=\u001b[39merrors,\n\u001b[0;32m    878\u001b[0m             newline\u001b[38;5;241m=\u001b[39m\u001b[38;5;124m\"\u001b[39m\u001b[38;5;124m\"\u001b[39m,\n\u001b[0;32m    879\u001b[0m         )\n\u001b[0;32m    880\u001b[0m     \u001b[38;5;28;01melse\u001b[39;00m:\n\u001b[0;32m    881\u001b[0m         \u001b[38;5;66;03m# Binary mode\u001b[39;00m\n\u001b[0;32m    882\u001b[0m         handle \u001b[38;5;241m=\u001b[39m \u001b[38;5;28mopen\u001b[39m(handle, ioargs\u001b[38;5;241m.\u001b[39mmode)\n",
      "\u001b[1;31mFileNotFoundError\u001b[0m: [Errno 2] No such file or directory: 'retail supermarket.csv'"
     ]
    }
   ],
   "source": [
    "df = pd.read_csv('retail supermarket.csv')\n",
    "df"
   ]
  },
  {
   "cell_type": "markdown",
   "id": "b5ba267c-513c-4254-8512-fe8572e7885e",
   "metadata": {},
   "source": [
    "### 1- Find record if Sales greater than 500 and Quantity greater than 5?"
   ]
  },
  {
   "cell_type": "code",
   "execution_count": null,
   "id": "32a9e991-2fd4-493b-829e-34413656154a",
   "metadata": {},
   "outputs": [],
   "source": [
    "df[(df['Sales']>=500) & (df['Quantity']>5)]"
   ]
  },
  {
   "cell_type": "markdown",
   "id": "ffe3b087-3750-4765-b93f-24529c775831",
   "metadata": {},
   "source": [
    "### 2- Find records if Discount is more than 0.5 (50%) or Profit is negative."
   ]
  },
  {
   "cell_type": "code",
   "execution_count": null,
   "id": "4926af64-b86a-45ba-a9b2-f477c0c1c622",
   "metadata": {},
   "outputs": [],
   "source": [
    "df[(df['Discount']>0.5) | (df['Profit']<0)]"
   ]
  },
  {
   "cell_type": "markdown",
   "id": "84d7981b-4b80-47f0-8d7d-c70784db29a1",
   "metadata": {},
   "source": [
    "### 3- Display Ship Mode and Profit columns if region is East using loc"
   ]
  },
  {
   "cell_type": "code",
   "execution_count": null,
   "id": "0013c79c-8459-49fd-86e7-7236c33a82a5",
   "metadata": {},
   "outputs": [],
   "source": [
    "df.loc[df['Region']=='East',['Ship Mode','Profit']]"
   ]
  },
  {
   "cell_type": "markdown",
   "id": "e7e32052-d0e9-4214-82e7-e3ee67995b86",
   "metadata": {},
   "source": [
    "### 4- How many records belong to the \"Corporate\" segment and the \"Central\" region?"
   ]
  },
  {
   "cell_type": "code",
   "execution_count": null,
   "id": "1a7aca9f-1196-4cf0-bd53-0ba820857a42",
   "metadata": {},
   "outputs": [],
   "source": [
    "df[(df['Segment']=='Corporate')&(df['Region']=='Central')]"
   ]
  },
  {
   "cell_type": "markdown",
   "id": "dd7b611e-db7d-4c01-8484-3eb8e570c9aa",
   "metadata": {},
   "source": [
    "### 5- Find all orders in the \"Furniture\" category but not in \"Chairs\" sub-category."
   ]
  },
  {
   "cell_type": "code",
   "execution_count": null,
   "id": "64f8d1ad-22be-4cbb-b270-ded9cd5c6ae7",
   "metadata": {},
   "outputs": [],
   "source": [
    "df[(df['Category']=='Furniture')&(df['Sub-Category']!='Chairs')]"
   ]
  },
  {
   "cell_type": "markdown",
   "id": "dacbe3b3-0d5e-431a-ba91-11f4cd38c373",
   "metadata": {},
   "source": [
    "### 6- Which orders have discount (>0.3) and still earned profit (>0)?"
   ]
  },
  {
   "cell_type": "code",
   "execution_count": null,
   "id": "01c29ffa-8f3d-4440-96c5-4a70bf003d47",
   "metadata": {},
   "outputs": [],
   "source": [
    "df[(df['Discount']>0.3) & (df['Profit']>0)]"
   ]
  },
  {
   "cell_type": "markdown",
   "id": "30244e9d-bcd9-4614-b9cb-89274e7a84cb",
   "metadata": {},
   "source": [
    "### 7- Find high-profit orders where Quantity > 5 and Category == 'Technology'."
   ]
  },
  {
   "cell_type": "code",
   "execution_count": null,
   "id": "c6b3dd31-205e-4e8e-8d44-5990c14b750f",
   "metadata": {},
   "outputs": [],
   "source": [
    "df[(df['Quantity'] > 5) & (df['Category'] == 'Technology')]\n"
   ]
  },
  {
   "cell_type": "markdown",
   "id": "968b3e16-89e3-4c83-8076-544ceef3d8c4",
   "metadata": {},
   "source": [
    "### 8- Select rows 0–4 and columns 'Ship Mode', 'Segment', 'Sales' by position using iloc"
   ]
  },
  {
   "cell_type": "code",
   "execution_count": null,
   "id": "fcd5fa0e-817c-4922-af0f-a057f2973e98",
   "metadata": {},
   "outputs": [],
   "source": [
    "df.iloc[0:4,[0,1,9]]"
   ]
  },
  {
   "cell_type": "markdown",
   "id": "6bfedd3c-29c8-4f8a-97e7-bbc570445a8f",
   "metadata": {},
   "source": [
    "### 9- Show Home Office segment orders with Sales > 1000 and Quantity > 3."
   ]
  },
  {
   "cell_type": "code",
   "execution_count": null,
   "id": "3346fb98-b2ac-465b-a99c-26a956e14dec",
   "metadata": {},
   "outputs": [],
   "source": [
    "df[(df['Segment']=='Home Office') & (df['Sales']>1000) & (df['Quantity']>3)]"
   ]
  },
  {
   "cell_type": "markdown",
   "id": "caa0d9b9-555b-42d7-bb4c-3cc7f4f7bb1d",
   "metadata": {},
   "source": [
    "### 10- Find orders where Profit Margin > 0.3\n",
    "\n",
    "Profit Margin = (Profit/Sales)"
   ]
  },
  {
   "cell_type": "code",
   "execution_count": null,
   "id": "dd9ec03f-f2fd-4d54-9034-11766ed0bea3",
   "metadata": {},
   "outputs": [],
   "source": [
    "df['Profit Margin'] = df['Profit'] / df['Sales']\n",
    "df[df['Profit Margin'] > 0.3]\n"
   ]
  }
 ],
 "metadata": {
  "kernelspec": {
   "display_name": "Python 3 (ipykernel)",
   "language": "python",
   "name": "python3"
  },
  "language_info": {
   "codemirror_mode": {
    "name": "ipython",
    "version": 3
   },
   "file_extension": ".py",
   "mimetype": "text/x-python",
   "name": "python",
   "nbconvert_exporter": "python",
   "pygments_lexer": "ipython3",
   "version": "3.13.5"
  }
 },
 "nbformat": 4,
 "nbformat_minor": 5
}
