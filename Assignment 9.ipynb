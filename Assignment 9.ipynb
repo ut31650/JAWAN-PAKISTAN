{
 "cells": [
  {
   "cell_type": "markdown",
   "id": "2bf6c77b-bc8e-45a8-a853-401f0356badf",
   "metadata": {},
   "source": [
    "Q1:\n",
    "Write a Python program that:\n",
    "\n",
    "Has a balance of 1000.\n",
    "\n",
    "Asks the user for a withdrawal amount.\n",
    "\n",
    "Checks for these errors:\n",
    "\n",
    "Non-numeric input → print \"Please enter a valid number.\"\n",
    "\n",
    "Amount ≤ 0 → print \"Amount must be more than zero.\"\n",
    "\n",
    "Amount > balance → print \"Insufficient balance.\"\n",
    "\n",
    "If valid, deducts amount and shows remaining balance.\n",
    "\n",
    "Always prints \"Thank you for using the ATM.\"\n",
    "\n",
    "Expected Output:\n",
    "\n",
    "- Enter amount to withdraw: 1500\n",
    "\n",
    "  Insufficient balance.\n",
    "\n",
    "  Thank you for using the ATM.\n",
    "\n",
    "\n",
    "- Enter amount to withdraw:  0\n",
    "\n",
    "  Amount must be more than zero.\n",
    "\n",
    "  Thank you for using the ATM.\n",
    "\n",
    "\n",
    "- Enter amount to withdraw:  K\n",
    "\n",
    "\n",
    "  Please enter a valid number.\n",
    "\n",
    "  Thank you for using the ATM."
   ]
  },
  {
   "cell_type": "code",
   "execution_count": 1,
   "id": "66e9eded-ce76-43d1-9c07-d86d52468713",
   "metadata": {},
   "outputs": [
    {
     "name": "stdin",
     "output_type": "stream",
     "text": [
      "Enter amount to withdraw: 1500\n"
     ]
    },
    {
     "name": "stdout",
     "output_type": "stream",
     "text": [
      "Enter amount to withdraw: 1500\n",
      "Insufficient balance.\n",
      "Thank you for using the ATM.\n"
     ]
    }
   ],
   "source": [
    "Balance = 1000\n",
    "Amount = input(\"Enter amount to withdraw:\")\n",
    "print(f\"Enter amount to withdraw: {Amount}\")\n",
    "try:\n",
    "    Amount = int(Amount)\n",
    "    if Amount <= 0:\n",
    "        print(\"Amount must be more than zero.\")\n",
    "    elif Amount > Balance :\n",
    "        print(\"Insufficient balance.\")\n",
    "    else:\n",
    "        Balance -= Amount\n",
    "        print(f\"Please collect your cash: {Amount}\")\n",
    "        print(f\"Remaining balance: {Balance}\")   \n",
    "except:\n",
    "     print(\"Please enter a valid number.\")\n",
    "finally:\n",
    "     print(\"Thank you for using the ATM.\")"
   ]
  },
  {
   "cell_type": "code",
   "execution_count": 2,
   "id": "7c0ce5d6-aa10-4447-9f7f-640b7fe095f9",
   "metadata": {},
   "outputs": [
    {
     "name": "stdin",
     "output_type": "stream",
     "text": [
      "Enter amount to withdraw: 0\n"
     ]
    },
    {
     "name": "stdout",
     "output_type": "stream",
     "text": [
      "Enter amount to withdraw: 0\n",
      "Amount must be more than zero.\n",
      "Thank you for using the ATM.\n"
     ]
    }
   ],
   "source": [
    "Balance = 1000\n",
    "Amount = input(\"Enter amount to withdraw:\")\n",
    "print(f\"Enter amount to withdraw: {Amount}\")\n",
    "try:\n",
    "    Amount = int(Amount)\n",
    "    if Amount <= 0:\n",
    "        print(\"Amount must be more than zero.\")\n",
    "    elif Amount > Balance :\n",
    "        print(\"Insufficient balance.\")\n",
    "    else:\n",
    "        Balance -= Amount\n",
    "        print(f\"Please collect your cash: {Amount}\")\n",
    "        print(f\"Remaining balance: {Balance}\")   \n",
    "except:\n",
    "     print(\"Please enter a valid number.\")\n",
    "finally:\n",
    "     print(\"Thank you for using the ATM.\")"
   ]
  },
  {
   "cell_type": "code",
   "execution_count": 3,
   "id": "8f7b39aa-cee8-4c4e-81d4-a3081eb84e16",
   "metadata": {},
   "outputs": [
    {
     "name": "stdin",
     "output_type": "stream",
     "text": [
      "Enter amount to withdraw: K\n"
     ]
    },
    {
     "name": "stdout",
     "output_type": "stream",
     "text": [
      "Enter amount to withdraw: K\n",
      "Please enter a valid number.\n",
      "Thank you for using the ATM.\n"
     ]
    }
   ],
   "source": [
    "Balance = 1000\n",
    "Amount = input(\"Enter amount to withdraw:\")\n",
    "print(f\"Enter amount to withdraw: {Amount}\")\n",
    "try:\n",
    "    Amount = int(Amount)\n",
    "    if Amount <= 0:\n",
    "        print(\"Amount must be more than zero.\")\n",
    "    elif Amount > Balance :\n",
    "        print(\"Insufficient balance.\")\n",
    "    else:\n",
    "        Balance -= Amount\n",
    "        print(f\"Please collect your cash: {Amount}\")\n",
    "        print(f\"Remaining balance: {Balance}\")   \n",
    "except:\n",
    "     print(\"Please enter a valid number.\")\n",
    "finally:\n",
    "     print(\"Thank you for using the ATM.\")"
   ]
  },
  {
   "cell_type": "markdown",
   "id": "e7ca4d3f-3f2f-4b01-bc4c-28919084207c",
   "metadata": {},
   "source": [
    "Q2\n",
    "\n",
    "Write a Python program that:\n",
    "\n",
    "Has 5 seats available (available_seats = 5).\n",
    "\n",
    "Asks the user how many tickets they want to book.\n",
    "\n",
    "Checks for these cases:\n",
    "\n",
    "Non-numeric input → print \"Please enter a valid number.\"\n",
    "\n",
    "Tickets ≤ 0 → print \"You must book at least 1 ticket.\"\n",
    "\n",
    "Tickets more than available seats → print \"Not enough seats available.\"\n",
    "\n",
    "If valid, confirms the booking by printing how many tickets were booked.\n",
    "\n",
    "Always prints \"Thank you for booking with us.\" at the end.\n",
    "\n",
    "Expected Output:\n",
    "\n",
    "- How many tickets do you want to book? 3\n",
    "\n",
    "  3 ticket(s) booked successfully.\n",
    "\n",
    "  Thank you for booking with us.\n",
    "\n",
    "- How many tickets do you want to book? 0\n",
    "\n",
    "\n",
    "  You must book at least 1 ticket.\n",
    "\n",
    "  Thank you for booking with us.\n",
    "\n",
    "- How many tickets do you want to book? 7\n",
    "\n",
    "  Not enough seats available.\n",
    "\n",
    "  Thank you for booking with us.\n",
    "\n",
    "- How many tickets do you want to book? five\n",
    "\n",
    "  Please enter a valid number.\n",
    "\n",
    "  Thank you for booking with us.\n",
    "\n",
    "\n",
    "\n"
   ]
  },
  {
   "cell_type": "code",
   "execution_count": 4,
   "id": "6647fe62-63b4-4d6f-9f7a-84c641895152",
   "metadata": {},
   "outputs": [
    {
     "name": "stdin",
     "output_type": "stream",
     "text": [
      "How many tickets do you want to book? 3\n"
     ]
    },
    {
     "name": "stdout",
     "output_type": "stream",
     "text": [
      "How many tickets do you want to book?:3\n",
      "3 ticket(s) booked successfully\n",
      "Thank you for booking with us.\n"
     ]
    }
   ],
   "source": [
    "available_seats = 5\n",
    "user = input(\"How many tickets do you want to book?\")\n",
    "print(f\"How many tickets do you want to book?:{user}\")\n",
    "try:\n",
    "    ticket = int(user)\n",
    "    if ticket <= 0:\n",
    "        print(\"You must book at least 1 ticket.\")\n",
    "    elif ticket > available_seats:\n",
    "        print(\"Not enough seats available.\")\n",
    "    elif ticket < available_seats:\n",
    "        print(f\"{ticket} ticket(s) booked successfully\") \n",
    "except:\n",
    "    print(\"Please enter a valid number.\")\n",
    "finally:\n",
    "    print(\"Thank you for booking with us.\")"
   ]
  },
  {
   "cell_type": "code",
   "execution_count": 5,
   "id": "ccaca19b-f014-4a73-a977-aafe2c4aa791",
   "metadata": {},
   "outputs": [
    {
     "name": "stdin",
     "output_type": "stream",
     "text": [
      "How many tickets do you want to book? 0\n"
     ]
    },
    {
     "name": "stdout",
     "output_type": "stream",
     "text": [
      "How many tickets do you want to book?:0\n",
      "You must book at least 1 ticket.\n",
      "Thank you for booking with us.\n"
     ]
    }
   ],
   "source": [
    "available_seats = 5\n",
    "user = input(\"How many tickets do you want to book?\")\n",
    "print(f\"How many tickets do you want to book?:{user}\")\n",
    "try:\n",
    "    ticket = int(user)\n",
    "    if ticket <= 0:\n",
    "        print(\"You must book at least 1 ticket.\")\n",
    "    elif ticket > available_seats:\n",
    "        print(\"Not enough seats available.\")\n",
    "    elif ticket < available_seats:\n",
    "        print(f\"{ticket} ticket(s) booked successfully\") \n",
    "except:\n",
    "    print(\"Please enter a valid number.\")\n",
    "finally:\n",
    "    print(\"Thank you for booking with us.\")"
   ]
  },
  {
   "cell_type": "code",
   "execution_count": 6,
   "id": "49faf9a5-05a9-4308-80a9-5a13815f9afc",
   "metadata": {},
   "outputs": [
    {
     "name": "stdin",
     "output_type": "stream",
     "text": [
      "How many tickets do you want to book? 7\n"
     ]
    },
    {
     "name": "stdout",
     "output_type": "stream",
     "text": [
      "How many tickets do you want to book?:7\n",
      "Not enough seats available.\n",
      "Thank you for booking with us.\n"
     ]
    }
   ],
   "source": [
    "available_seats = 5\n",
    "user = input(\"How many tickets do you want to book?\")\n",
    "print(f\"How many tickets do you want to book?:{user}\")\n",
    "try:\n",
    "    ticket = int(user)\n",
    "    if ticket <= 0:\n",
    "        print(\"You must book at least 1 ticket.\")\n",
    "    elif ticket > available_seats:\n",
    "        print(\"Not enough seats available.\")\n",
    "    elif ticket < available_seats:\n",
    "        print(f\"{ticket} ticket(s) booked successfully\") \n",
    "except:\n",
    "    print(\"Please enter a valid number.\")\n",
    "finally:\n",
    "    print(\"Thank you for booking with us.\")"
   ]
  },
  {
   "cell_type": "code",
   "execution_count": 7,
   "id": "c9b4b2e8-4019-4144-beec-f6283ccd9644",
   "metadata": {},
   "outputs": [
    {
     "name": "stdin",
     "output_type": "stream",
     "text": [
      "How many tickets do you want to book? five\n"
     ]
    },
    {
     "name": "stdout",
     "output_type": "stream",
     "text": [
      "How many tickets do you want to book?:five\n",
      "Please enter a valid number.\n",
      "Thank you for booking with us.\n"
     ]
    }
   ],
   "source": [
    "available_seats = 5\n",
    "user = input(\"How many tickets do you want to book?\")\n",
    "print(f\"How many tickets do you want to book?:{user}\")\n",
    "try:\n",
    "    ticket = int(user)\n",
    "    if ticket <= 0:\n",
    "        print(\"You must book at least 1 ticket.\")\n",
    "    elif ticket > available_seats:\n",
    "        print(\"Not enough seats available.\")\n",
    "    elif ticket < available_seats:\n",
    "        print(f\"{ticket} ticket(s) booked successfully\") \n",
    "except:\n",
    "    print(\"Please enter a valid number.\")\n",
    "finally:\n",
    "    print(\"Thank you for booking with us.\")"
   ]
  },
  {
   "cell_type": "markdown",
   "id": "5dc01c7c-2a5b-4a18-bd8f-4b80f71b625b",
   "metadata": {},
   "source": [
    "Q3:\n",
    "\n",
    "Write a Python program that:\n",
    "\n",
    "Asks the user how many items they want to buy.\n",
    "\n",
    "If the user enters a non-number, print: \"Please enter a valid quantity.\"\n",
    "\n",
    "If the user enters a number less than 1, print: \"You must buy at least one item.\"\n",
    "\n",
    "If the input is valid, print: \"You added {quantity} item(s) to your cart.\"\n",
    "\n",
    "Expected Output:\n",
    "\n",
    "- Enter the number of items you want to buy: 3\n",
    "\n",
    "  You added 3 item(s) to your cart.\n",
    "\n",
    "- Enter the number of items you want to buy: 0\n",
    "\n",
    "    You must buy at least one item.\n",
    "\n",
    "- Enter the number of items you want to buy: five\n",
    "\n",
    "  Please enter a valid quantity.\n",
    "\n"
   ]
  },
  {
   "cell_type": "code",
   "execution_count": 8,
   "id": "9598483c-6060-49a7-be55-d8d6494d3d7a",
   "metadata": {},
   "outputs": [
    {
     "name": "stdin",
     "output_type": "stream",
     "text": [
      "Enter the number of items you want to buy: 3\n"
     ]
    },
    {
     "name": "stdout",
     "output_type": "stream",
     "text": [
      "Enter the number of items you want to buy:3\n",
      "You added 3 item(s) to your cart.\n"
     ]
    }
   ],
   "source": [
    "user = input(\"Enter the number of items you want to buy:\")\n",
    "print(f'Enter the number of items you want to buy:{user}')\n",
    "try:\n",
    "    quantity = int(user)\n",
    "    if quantity < 1:\n",
    "        print(\"You must buy at least one item.\")\n",
    "    elif quantity >= 1 :\n",
    "        print(f\"You added {quantity} item(s) to your cart.\")\n",
    "except:\n",
    "    print(\"Please enter a valid quantity.\")"
   ]
  },
  {
   "cell_type": "code",
   "execution_count": 9,
   "id": "7eda387b-da21-4fe0-b2e0-c3318fad0cdd",
   "metadata": {},
   "outputs": [
    {
     "name": "stdin",
     "output_type": "stream",
     "text": [
      "Enter the number of items you want to buy: 0\n"
     ]
    },
    {
     "name": "stdout",
     "output_type": "stream",
     "text": [
      "Enter the number of items you want to buy:0\n",
      "You must buy at least one item.\n"
     ]
    }
   ],
   "source": [
    "user = input(\"Enter the number of items you want to buy:\")\n",
    "print(f'Enter the number of items you want to buy:{user}')\n",
    "try:\n",
    "    quantity = int(user)\n",
    "    if quantity < 1:\n",
    "        print(\"You must buy at least one item.\")\n",
    "    elif quantity >= 1 :\n",
    "        print(f\"You added {quantity} item(s) to your cart.\")\n",
    "except:\n",
    "    print(\"Please enter a valid quantity.\")"
   ]
  },
  {
   "cell_type": "code",
   "execution_count": 10,
   "id": "7960fd15-2dd8-47b4-a73f-9937b92e7b12",
   "metadata": {},
   "outputs": [
    {
     "name": "stdin",
     "output_type": "stream",
     "text": [
      "Enter the number of items you want to buy: five\n"
     ]
    },
    {
     "name": "stdout",
     "output_type": "stream",
     "text": [
      "Enter the number of items you want to buy:five\n",
      "Please enter a valid quantity.\n"
     ]
    }
   ],
   "source": [
    "user = input(\"Enter the number of items you want to buy:\")\n",
    "print(f'Enter the number of items you want to buy:{user}')\n",
    "try:\n",
    "    quantity = int(user)\n",
    "    if quantity < 1:\n",
    "        print(\"You must buy at least one item.\")\n",
    "    elif quantity >= 1 :\n",
    "        print(f\"You added {quantity} item(s) to your cart.\")\n",
    "except:\n",
    "    print(\"Please enter a valid quantity.\")"
   ]
  },
  {
   "cell_type": "markdown",
   "id": "3ac27741-aec9-45ae-83c5-8648e53245cd",
   "metadata": {},
   "source": [
    "Q4:\n",
    "Write a Python program that:\n",
    "\n",
    "Asks the user to enter a number between 1 and 7.\n",
    "\n",
    "If the number is between 1 and 7, prints the corresponding day of the week (1 = Monday, 7 = Sunday).\n",
    "\n",
    "If the number is outside this range, prints: \"Please enter a number between 1 and 7.\"\n",
    "\n",
    "Handles invalid input (non-numbers) by printing: \"Please enter a valid number.\"\n",
    "\n",
    "Expected Output:\n",
    "\n",
    "- Enter a day number (1-7): 3\n",
    "\n",
    "  Day is Wednesday\n",
    "\n",
    "- Enter a day number (1-7): 9\n",
    "\n",
    "    Please enter a number between 1 and 7.\n",
    "\n",
    "- Enter a day number (1-7): five\n",
    "\n",
    "  Please enter a valid number.\n",
    "\n",
    "\n"
   ]
  },
  {
   "cell_type": "code",
   "execution_count": 11,
   "id": "86ebdf6e-6963-4832-8b8e-576568b6a510",
   "metadata": {},
   "outputs": [
    {
     "name": "stdin",
     "output_type": "stream",
     "text": [
      "Enter a day number (1-7):  3\n"
     ]
    },
    {
     "name": "stdout",
     "output_type": "stream",
     "text": [
      "Enter a day number (1-7):: 3\n",
      "Day is Wednesday\n"
     ]
    }
   ],
   "source": [
    "days = {1: \"Monday\",2: \"Tuesday\",3: \"Wednesday\",4: \"Thursday\",5: \"Friday\",6: \"Saturday\",7: \"Sunday\"}\n",
    "user_input = input(\"Enter a day number (1-7): \")\n",
    "print(f\"Enter a day number (1-7):: {user_input}\") \n",
    "try:\n",
    "    day_num = int(user_input)\n",
    "    if 1 <= day_num <= 7:\n",
    "        print(f\"Day is {days[day_num]}\")\n",
    "    else:\n",
    "        print(\"Please enter a number between 1 and 7.\")\n",
    "\n",
    "except:\n",
    "    print(\"Please enter a valid number.\")"
   ]
  },
  {
   "cell_type": "code",
   "execution_count": 12,
   "id": "d9865455-0eae-4568-b0cb-2290043be7fd",
   "metadata": {},
   "outputs": [
    {
     "name": "stdin",
     "output_type": "stream",
     "text": [
      "Enter a day number (1-7):  9\n"
     ]
    },
    {
     "name": "stdout",
     "output_type": "stream",
     "text": [
      "Enter a day number (1-7):: 9\n",
      "Please enter a number between 1 and 7.\n"
     ]
    }
   ],
   "source": [
    "days = {1: \"Monday\",2: \"Tuesday\",3: \"Wednesday\",4: \"Thursday\",5: \"Friday\",6: \"Saturday\",7: \"Sunday\"}\n",
    "user_input = input(\"Enter a day number (1-7): \")\n",
    "print(f\"Enter a day number (1-7):: {user_input}\") \n",
    "try:\n",
    "    day_num = int(user_input)\n",
    "    if 1 <= day_num <= 7:\n",
    "        print(f\"Day is {days[day_num]}\")\n",
    "    else:\n",
    "        print(\"Please enter a number between 1 and 7.\")\n",
    "\n",
    "except:\n",
    "    print(\"Please enter a valid number.\")"
   ]
  },
  {
   "cell_type": "code",
   "execution_count": 13,
   "id": "bb0b300f-22c4-4267-9fa3-aa950ba44447",
   "metadata": {},
   "outputs": [
    {
     "name": "stdin",
     "output_type": "stream",
     "text": [
      "Enter a day number (1-7):  five\n"
     ]
    },
    {
     "name": "stdout",
     "output_type": "stream",
     "text": [
      "Enter a day number (1-7):: five\n",
      "Please enter a valid number.\n"
     ]
    }
   ],
   "source": [
    "days = {1: \"Monday\",2: \"Tuesday\",3: \"Wednesday\",4: \"Thursday\",5: \"Friday\",6: \"Saturday\",7: \"Sunday\"}\n",
    "user_input = input(\"Enter a day number (1-7): \")\n",
    "print(f\"Enter a day number (1-7):: {user_input}\") \n",
    "try:\n",
    "    day_num = int(user_input)\n",
    "    if 1 <= day_num <= 7:\n",
    "        print(f\"Day is {days[day_num]}\")\n",
    "    else:\n",
    "        print(\"Please enter a number between 1 and 7.\")\n",
    "\n",
    "except:\n",
    "    print(\"Please enter a valid number.\")"
   ]
  },
  {
   "cell_type": "markdown",
   "id": "ae60a0eb-b305-425f-b90e-808005f8cefb",
   "metadata": {},
   "source": [
    "Q5:\n",
    "\n",
    "Write a Python program that:\n",
    "\n",
    "Asks the user how many days late they are returning a book.\n",
    "\n",
    "Calculates a fine: $0.50 per day late.\n",
    "\n",
    "If the user enters a negative number, print: \"Days late cannot be negative.\"\n",
    "\n",
    "If the input is invalid (not a number), print: \"Please enter a valid number.\"\n",
    "\n",
    "Otherwise, print the total fine.\n",
    "\n",
    "Expected Output:\n",
    "\n",
    "- Enter the number of days late: 4\n",
    "\n",
    "  Total fine: $2.00\n",
    "\n",
    "- Enter the number of days late: 0\n",
    "\n",
    "  Total fine: $0.00\n",
    "\n",
    "- Enter the number of days late: -3\n",
    "\n",
    "    Days late cannot be negative.\n",
    "\n",
    "- Enter the number of days late: five\n",
    "\n",
    "\n",
    "  Please enter a valid number.\n",
    "\n",
    "\n",
    "\n"
   ]
  },
  {
   "cell_type": "code",
   "execution_count": 14,
   "id": "e5897bc9-ee4c-4009-aad3-b8ba9dfec350",
   "metadata": {},
   "outputs": [
    {
     "name": "stdin",
     "output_type": "stream",
     "text": [
      "Enter how many days late you are returning the :  4\n"
     ]
    },
    {
     "name": "stdout",
     "output_type": "stream",
     "text": [
      "Enter the number of days late: 4\n",
      "Total fine: $2.00\n"
     ]
    }
   ],
   "source": [
    "user = input(\"Enter how many days late you are returning the : \")\n",
    "print(f'Enter the number of days late: {user}')\n",
    "try:\n",
    "    days_late = int(user)\n",
    "    if days_late < 0:\n",
    "        print(\"Days late cannot be negative.\")\n",
    "    else:\n",
    "        fine = days_late * 0.50\n",
    "        print(f\"Total fine: ${fine:.2f}\")\n",
    "\n",
    "except ValueError:\n",
    "    print(\"Please enter a valid number.\")"
   ]
  },
  {
   "cell_type": "code",
   "execution_count": 15,
   "id": "4dde6a76-42c3-4366-91f3-fc4cb8ed265a",
   "metadata": {},
   "outputs": [
    {
     "name": "stdin",
     "output_type": "stream",
     "text": [
      "Enter how many days late you are returning the :  0\n"
     ]
    },
    {
     "name": "stdout",
     "output_type": "stream",
     "text": [
      "Enter the number of days late: 0\n",
      "Total fine: $0.00\n"
     ]
    }
   ],
   "source": [
    "user = input(\"Enter how many days late you are returning the : \")\n",
    "print(f'Enter the number of days late: {user}')\n",
    "try:\n",
    "    days_late = int(user)\n",
    "    if days_late < 0:\n",
    "        print(\"Days late cannot be negative.\")\n",
    "    else:\n",
    "        fine = days_late * 0.50\n",
    "        print(f\"Total fine: ${fine:.2f}\")\n",
    "\n",
    "except ValueError:\n",
    "    print(\"Please enter a valid number.\")"
   ]
  },
  {
   "cell_type": "code",
   "execution_count": 16,
   "id": "b5d509ad-9b0d-4992-a9b1-e01ccfb9d0bd",
   "metadata": {},
   "outputs": [
    {
     "name": "stdin",
     "output_type": "stream",
     "text": [
      "Enter how many days late you are returning the :  -3\n"
     ]
    },
    {
     "name": "stdout",
     "output_type": "stream",
     "text": [
      "Enter the number of days late: -3\n",
      "Days late cannot be negative.\n"
     ]
    }
   ],
   "source": [
    "user = input(\"Enter how many days late you are returning the : \")\n",
    "print(f'Enter the number of days late: {user}')\n",
    "try:\n",
    "    days_late = int(user)\n",
    "    if days_late < 0:\n",
    "        print(\"Days late cannot be negative.\")\n",
    "    else:\n",
    "        fine = days_late * 0.50\n",
    "        print(f\"Total fine: ${fine:.2f}\")\n",
    "\n",
    "except ValueError:\n",
    "    print(\"Please enter a valid number.\")"
   ]
  },
  {
   "cell_type": "code",
   "execution_count": 17,
   "id": "140a8416-c960-40a3-9e07-c9220c701692",
   "metadata": {},
   "outputs": [
    {
     "name": "stdin",
     "output_type": "stream",
     "text": [
      "Enter how many days late you are returning the :  five\n"
     ]
    },
    {
     "name": "stdout",
     "output_type": "stream",
     "text": [
      "Enter the number of days late: five\n",
      "Please enter a valid number.\n"
     ]
    }
   ],
   "source": [
    "user = input(\"Enter how many days late you are returning the : \")\n",
    "print(f'Enter the number of days late: {user}')\n",
    "try:\n",
    "    days_late = int(user)\n",
    "    if days_late < 0:\n",
    "        print(\"Days late cannot be negative.\")\n",
    "    else:\n",
    "        fine = days_late * 0.50\n",
    "        print(f\"Total fine: ${fine:.2f}\")\n",
    "\n",
    "except ValueError:\n",
    "    print(\"Please enter a valid number.\")"
   ]
  },
  {
   "cell_type": "markdown",
   "id": "0c62f22a-9cd0-4092-81d7-f9a1dfd27478",
   "metadata": {},
   "source": [
    "Q6:\n",
    "Define a class named Book that has the following attributes:\n",
    "\n",
    "title (string)\n",
    "\n",
    "author (string)\n",
    "\n",
    "year (integer)\n",
    "\n",
    "Write a constructor (__init__) that initializes these attributes when a Book object is created.\n",
    "\n",
    "Then, create an object of the Book class with sample data (e.g., title = \"To Kill a Mockingbird\", author = \"Harper Lee\", year = 1960).\n",
    "\n",
    "Finally, print the values of the object's attributes (title, author, and year\n",
    "\n",
    "Expected Output:\n",
    "\n",
    "To Kill a Mockingbird\n",
    "\n",
    "Harper Lee\n",
    "\n",
    "1960\n"
   ]
  },
  {
   "cell_type": "code",
   "execution_count": 18,
   "id": "75226f4c-8e5e-4d1f-80e3-17e21a01c278",
   "metadata": {},
   "outputs": [
    {
     "name": "stdout",
     "output_type": "stream",
     "text": [
      "To Kill a Mockingbird\n",
      "Harper Lee\n",
      "1960\n"
     ]
    }
   ],
   "source": [
    "class Book:\n",
    "    def __init__(self, title, author, year):\n",
    "        self.title = title\n",
    "        self.author = author\n",
    "        self.year = year\n",
    "book1 = Book(\"To Kill a Mockingbird\",\"Harper Lee\",1960)\n",
    "print(book1.title)\n",
    "print(book1.author)\n",
    "print(book1.year)"
   ]
  },
  {
   "cell_type": "markdown",
   "id": "865ebbd2-6635-46b3-8dd5-67f3939287e6",
   "metadata": {},
   "source": [
    "Q7:\n",
    "\n",
    "Define a class named Book with the following:\n",
    "\n",
    "A constructor (__init__) that initializes three attributes: title, author, and year.\n",
    "\n",
    "A method display_info() that prints the book details in the format:\n",
    "\n",
    "'{title}' by {author}, published in {year}.\n",
    "\n",
    "A method is_classic() that simply prints:\n",
    "\n",
    "\"This is a book.\"\n",
    "\n",
    "Create an object of the Book class using this data:\n",
    "\n",
    "Title: \"To Kill a Mockingbird\"\n",
    "\n",
    "Author: \"Harper Lee\"\n",
    "\n",
    "Year: 1960\n",
    "\n",
    "Call both methods on the object.\n",
    "\n",
    "Expected Output:\n",
    "\n",
    "'To Kill a Mockingbird' by Harper Lee, published in 1960.\n",
    "\n",
    "This is a book.\n",
    "\n"
   ]
  },
  {
   "cell_type": "code",
   "execution_count": 19,
   "id": "4a1d7d07-fa63-41ae-941b-e59a512399c0",
   "metadata": {},
   "outputs": [
    {
     "name": "stdout",
     "output_type": "stream",
     "text": [
      "'To Kill a Mockingbird' by Harper Lee, published in 1960.\n",
      "This is a book.\n"
     ]
    }
   ],
   "source": [
    "class Book:\n",
    "    def __init__(self, title, author, year):\n",
    "        self.title = title\n",
    "        self.author = author\n",
    "        self.year = year\n",
    "\n",
    "    def display_info(self):\n",
    "        print(f\"'{self.title}' by {self.author}, published in {self.year}.\")\n",
    "\n",
    "    def is_classic(self):\n",
    "        print(\"This is a book.\")\n",
    "\n",
    "book1 = Book(\"To Kill a Mockingbird\", \"Harper Lee\", 1960)\n",
    "book1.display_info()\n",
    "book1.is_classic()\n"
   ]
  },
  {
   "cell_type": "markdown",
   "id": "aa6ad4bb-1c4c-4765-b1e0-98068f7c89b8",
   "metadata": {},
   "source": [
    "Q8:\n",
    "\n",
    "Define a class named Student that has the following:\n",
    "\n",
    "Attributes: name, grade, and age.\n",
    "\n",
    "A method introduce() that prints:\n",
    "\n",
    "\"My name is {name}, I am {age} years old.\"\n",
    "\n",
    "A method show_grade() that prints:\n",
    "\n",
    "\"My grade is {grade}.\"\n",
    "\n",
    "Create an object of the Student class with sample data (e.g., \"Alice\", \"A\", 16), and call both methods on the object.\n",
    "\n",
    "Expected Output:\n",
    "\n",
    "My name is Alice, I am 16 years old.\n",
    "\n",
    "My grade is A.\n"
   ]
  },
  {
   "cell_type": "code",
   "execution_count": 20,
   "id": "cc0ad876-1da6-4313-a558-1cc2b1a90d65",
   "metadata": {},
   "outputs": [
    {
     "name": "stdout",
     "output_type": "stream",
     "text": [
      "My name is Alice, I am 16 years old.\n",
      "My grade is A.\n"
     ]
    }
   ],
   "source": [
    "class Student:\n",
    "    def __init__(self, name, grade, age):\n",
    "        self.name = name\n",
    "        self.grade = grade\n",
    "        self.age = age\n",
    "\n",
    "    def introduce(self):\n",
    "        print(f\"My name is {self.name}, I am {self.age} years old.\")\n",
    "\n",
    "    def show_grade(self):\n",
    "        print(f\"My grade is {self.grade}.\")\n",
    "\n",
    "student1 = Student(\"Alice\", \"A\", 16)\n",
    "student1.introduce()\n",
    "student1.show_grade()"
   ]
  },
  {
   "cell_type": "markdown",
   "id": "525dd92f-d478-42fe-b48f-705262d24ee3",
   "metadata": {},
   "source": [
    "Q9:\n",
    "\n",
    "Define a class named Light with two methods:\n",
    "\n",
    "turn_on() — prints: \"The light is now ON.\"\n",
    "\n",
    "check_status() — prints: \"The light is bright and working.\"\n",
    "\n",
    "Create an object of the Light class and call both methods.\n",
    "\n",
    "Expected Output:\n",
    "\n",
    "The light is now ON.\n",
    "\n",
    "The light is bright and working."
   ]
  },
  {
   "cell_type": "code",
   "execution_count": 21,
   "id": "453563f0-6777-485f-943e-068325cf6cec",
   "metadata": {},
   "outputs": [
    {
     "name": "stdout",
     "output_type": "stream",
     "text": [
      "The light is now ON.\n",
      "The light is bright and working.\n"
     ]
    }
   ],
   "source": [
    "class Light:\n",
    "    def turn_on(self):\n",
    "        print(\"The light is now ON.\")\n",
    "\n",
    "    def check_status(self):\n",
    "        print(\"The light is bright and working.\")\n",
    "\n",
    "light1 = Light()\n",
    "light1.turn_on()\n",
    "light1.check_status()"
   ]
  },
  {
   "cell_type": "markdown",
   "id": "229582cf-8c57-44e9-89e5-ab363c727f0d",
   "metadata": {},
   "source": [
    "Q10:\n",
    "\n",
    "available_slots = [101, 102, 103, 104, 105]\n",
    "\n",
    "reserved =  [106, 107, 108, 109, 110]\n",
    "\n",
    "You manage a parking lot with two lists:\n",
    "\n",
    "available_slots — parking slots that are free and can be reserved.\n",
    "\n",
    "reserved — parking slots that are already taken.\n",
    "\n",
    "Write a program that:\n",
    "\n",
    "Asks the user to enter a parking slot number they want to reserve.\n",
    "\n",
    "Checks the slot number:\n",
    "\n",
    "If the slot is in available_slots, confirm the reservation by printing:\n",
    "\n",
    "\"Slot {slot} is reserved for you.\"\n",
    "\n",
    "If the slot is in reserved, print:\n",
    "\n",
    "\"Slot {slot} is already reserved by someone else.\"\n",
    "\n",
    "If the slot is not in either list, print:\n",
    "\n",
    "\"Slot {slot} does not exist.\"\n",
    "\n",
    "Handles invalid input (non-integer) with an error message:\n",
    "\n",
    "\"Invalid input. Please enter a valid slot number.\"\n",
    "\n",
    "Expected Output:\n",
    "\n",
    "- Enter the parking slot number you want to reserve: 103\n",
    "\n",
    "    Slot 103 is reserved for you.\n",
    "\n",
    "- Enter the parking slot number you want to reserve: 107\n",
    "\n",
    "    Slot 107 is already reserved by someone else.\n",
    "\n",
    "- Enter the parking slot number you want to reserve: 999\n",
    "\n",
    "    Slot 999 does not exist.\n",
    "\n",
    "- Enter the parking slot number you want to reserve: abc\n",
    "\n",
    "  Invalid input. Please enter a valid slot number.\n"
   ]
  },
  {
   "cell_type": "code",
   "execution_count": 22,
   "id": "a99e6173-631a-4c7e-ad31-04cba55339cf",
   "metadata": {},
   "outputs": [
    {
     "name": "stdin",
     "output_type": "stream",
     "text": [
      "Enter the parking slot number you want to reserve:  103\n"
     ]
    },
    {
     "name": "stdout",
     "output_type": "stream",
     "text": [
      "Enter the parking slot number you want to reserve: 103\n",
      "Slot 103 is reserved for you.\n"
     ]
    }
   ],
   "source": [
    "available_slots = [101, 102, 103, 104, 105]\n",
    "reserved = [106, 107, 108, 109, 110]\n",
    "parking_slot = input(\"Enter the parking slot number you want to reserve: \")\n",
    "print(f'Enter the parking slot number you want to reserve: {parking_slot}')\n",
    "try:\n",
    "    slot = int(parking_slot)\n",
    "\n",
    "    if slot in available_slots:\n",
    "        print(f\"Slot {slot} is reserved for you.\")\n",
    "\n",
    "    elif slot in reserved:\n",
    "        print(f\"Slot {slot} is already reserved by someone else.\")\n",
    "\n",
    "    else:\n",
    "        print(f\"Slot {slot} does not exist.\")\n",
    "\n",
    "except:\n",
    "    print(\"Invalid input. Please enter a valid slot number.\")"
   ]
  },
  {
   "cell_type": "code",
   "execution_count": 23,
   "id": "c69b098c-daec-4a97-90cb-cce904132cf2",
   "metadata": {},
   "outputs": [
    {
     "name": "stdin",
     "output_type": "stream",
     "text": [
      "Enter the parking slot number you want to reserve:  107\n"
     ]
    },
    {
     "name": "stdout",
     "output_type": "stream",
     "text": [
      "Enter the parking slot number you want to reserve: 107\n",
      "Slot 107 is already reserved by someone else.\n"
     ]
    }
   ],
   "source": [
    "available_slots = [101, 102, 103, 104, 105]\n",
    "reserved = [106, 107, 108, 109, 110]\n",
    "parking_slot = input(\"Enter the parking slot number you want to reserve: \")\n",
    "print(f'Enter the parking slot number you want to reserve: {parking_slot}')\n",
    "try:\n",
    "    slot = int(parking_slot)\n",
    "\n",
    "    if slot in available_slots:\n",
    "        print(f\"Slot {slot} is reserved for you.\")\n",
    "\n",
    "    elif slot in reserved:\n",
    "        print(f\"Slot {slot} is already reserved by someone else.\")\n",
    "\n",
    "    else:\n",
    "        print(f\"Slot {slot} does not exist.\")\n",
    "\n",
    "except:\n",
    "    print(\"Invalid input. Please enter a valid slot number.\")"
   ]
  },
  {
   "cell_type": "code",
   "execution_count": 24,
   "id": "baaf38ea-efea-4b43-890a-a64ceeb4f538",
   "metadata": {},
   "outputs": [
    {
     "name": "stdin",
     "output_type": "stream",
     "text": [
      "Enter the parking slot number you want to reserve:  999\n"
     ]
    },
    {
     "name": "stdout",
     "output_type": "stream",
     "text": [
      "Enter the parking slot number you want to reserve: 999\n",
      "Slot 999 does not exist.\n"
     ]
    }
   ],
   "source": [
    "available_slots = [101, 102, 103, 104, 105]\n",
    "reserved = [106, 107, 108, 109, 110]\n",
    "parking_slot = input(\"Enter the parking slot number you want to reserve: \")\n",
    "print(f'Enter the parking slot number you want to reserve: {parking_slot}')\n",
    "try:\n",
    "    slot = int(parking_slot)\n",
    "\n",
    "    if slot in available_slots:\n",
    "        print(f\"Slot {slot} is reserved for you.\")\n",
    "\n",
    "    elif slot in reserved:\n",
    "        print(f\"Slot {slot} is already reserved by someone else.\")\n",
    "\n",
    "    else:\n",
    "        print(f\"Slot {slot} does not exist.\")\n",
    "\n",
    "except:\n",
    "    print(\"Invalid input. Please enter a valid slot number.\")"
   ]
  },
  {
   "cell_type": "code",
   "execution_count": 25,
   "id": "7b1ec6ab-191d-440d-bb7a-aa4f35466399",
   "metadata": {},
   "outputs": [
    {
     "name": "stdin",
     "output_type": "stream",
     "text": [
      "Enter the parking slot number you want to reserve:  abc\n"
     ]
    },
    {
     "name": "stdout",
     "output_type": "stream",
     "text": [
      "Enter the parking slot number you want to reserve: abc\n",
      "Invalid input. Please enter a valid slot number.\n"
     ]
    }
   ],
   "source": [
    "available_slots = [101, 102, 103, 104, 105]\n",
    "reserved = [106, 107, 108, 109, 110]\n",
    "parking_slot = input(\"Enter the parking slot number you want to reserve: \")\n",
    "print(f'Enter the parking slot number you want to reserve: {parking_slot}')\n",
    "try:\n",
    "    slot = int(parking_slot)\n",
    "\n",
    "    if slot in available_slots:\n",
    "        print(f\"Slot {slot} is reserved for you.\")\n",
    "\n",
    "    elif slot in reserved:\n",
    "        print(f\"Slot {slot} is already reserved by someone else.\")\n",
    "\n",
    "    else:\n",
    "        print(f\"Slot {slot} does not exist.\")\n",
    "\n",
    "except:\n",
    "    print(\"Invalid input. Please enter a valid slot number.\")"
   ]
  },
  {
   "cell_type": "code",
   "execution_count": null,
   "id": "e454eca3-39ce-49cb-a098-4ef942052a51",
   "metadata": {},
   "outputs": [],
   "source": []
  }
 ],
 "metadata": {
  "kernelspec": {
   "display_name": "Python 3 (ipykernel)",
   "language": "python",
   "name": "python3"
  },
  "language_info": {
   "codemirror_mode": {
    "name": "ipython",
    "version": 3
   },
   "file_extension": ".py",
   "mimetype": "text/x-python",
   "name": "python",
   "nbconvert_exporter": "python",
   "pygments_lexer": "ipython3",
   "version": "3.13.5"
  }
 },
 "nbformat": 4,
 "nbformat_minor": 5
}
