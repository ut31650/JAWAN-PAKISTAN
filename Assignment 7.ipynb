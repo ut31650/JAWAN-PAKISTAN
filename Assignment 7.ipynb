{
 "cells": [
  {
   "cell_type": "markdown",
   "id": "ce724d93-8f13-4293-9c50-ef0514adab8c",
   "metadata": {},
   "source": [
    "Question 1:\n",
    "\n",
    "Write a Python program that prints numbers from 1 to 20, but skips all even numbers.\n",
    "\n",
    "Use a while loop.\n",
    "\n",
    "Use the continue statement\n",
    "\n",
    "The numbers should be printed on the same line separated by spaces.\n",
    "\n",
    "Expected Output:\n",
    "\n",
    "1 3 5 7 9 11 13 15 17 19"
   ]
  },
  {
   "cell_type": "code",
   "execution_count": 1,
   "id": "b38c2d54-a96c-4205-9043-984e468a8d69",
   "metadata": {},
   "outputs": [
    {
     "name": "stdout",
     "output_type": "stream",
     "text": [
      "1 3 5 7 9 11 13 15 17 19 "
     ]
    }
   ],
   "source": [
    "i = 1\n",
    "while i <= 20:\n",
    "    if i % 2 == 0:\n",
    "        i += 1\n",
    "        continue         \n",
    "    print(i, end=\" \")\n",
    "    i += 1"
   ]
  },
  {
   "cell_type": "markdown",
   "id": "b431d0dc-6c6b-4dca-9fc5-f3bba2af76af",
   "metadata": {},
   "source": [
    "Question 2:\n",
    "\n",
    "Write a Python program that keeps asking the user to enter numbers and prints them.\n",
    "\n",
    "The program should stop the loop if the user enters a negative number.\n",
    "\n",
    "Use a while True loop with a break statement\n",
    "\n",
    "Expected Output:\n",
    "\n",
    "Enter a number (negative to stop): 5\n",
    "\n",
    "You entered: 5\n",
    "\n",
    "Enter a number (negative to stop): 10\n",
    "\n",
    "You entered: 10\n",
    "\n",
    "Enter a number (negative to stop): -3\n",
    "\n",
    "Negative number entered. Loop stopped!\n"
   ]
  },
  {
   "cell_type": "code",
   "execution_count": 2,
   "id": "c4e401da-a28c-4541-a22c-007da1047d36",
   "metadata": {},
   "outputs": [
    {
     "name": "stdin",
     "output_type": "stream",
     "text": [
      "Enter a number (negative to stop):  5\n"
     ]
    },
    {
     "name": "stdout",
     "output_type": "stream",
     "text": [
      "Enter a number (negative to stop): 5\n",
      "You entered: 5\n"
     ]
    },
    {
     "name": "stdin",
     "output_type": "stream",
     "text": [
      "Enter a number (negative to stop):  10\n"
     ]
    },
    {
     "name": "stdout",
     "output_type": "stream",
     "text": [
      "Enter a number (negative to stop): 10\n",
      "You entered: 10\n"
     ]
    },
    {
     "name": "stdin",
     "output_type": "stream",
     "text": [
      "Enter a number (negative to stop):  -3\n"
     ]
    },
    {
     "name": "stdout",
     "output_type": "stream",
     "text": [
      "Enter a number (negative to stop): -3\n",
      "Negative number entered. Loop stopped!\n"
     ]
    }
   ],
   "source": [
    "while True:\n",
    "    num = int(input(\"Enter a number (negative to stop): \"))\n",
    "    print(\"Enter a number (negative to stop):\", num) \n",
    "    if num < 0:\n",
    "        print(\"Negative number entered. Loop stopped!\")\n",
    "        break\n",
    "    print(\"You entered:\", num)"
   ]
  },
  {
   "cell_type": "markdown",
   "id": "67b2a90d-44f0-4966-b239-e969c9757206",
   "metadata": {},
   "source": [
    "Question 3:\n",
    "\n",
    "\n",
    "Write a Python program that asks the user to guess a secret word.\n",
    "\n",
    "Keep asking until the user enters the correct word (\"python\").\n",
    "\n",
    "When guessed correctly, print \"🎉 You guessed it!\"\n",
    "\n",
    "Expected Output:\n",
    "\n",
    "Guess the word: java\n",
    "\n",
    "Guess the word: ruby\n",
    "\n",
    "Guess the word: python\n",
    "\n",
    "🎉 You guessed it!"
   ]
  },
  {
   "cell_type": "code",
   "execution_count": null,
   "id": "efe5c5a0-934f-4194-b8df-8c2832647e0d",
   "metadata": {},
   "outputs": [
    {
     "name": "stdin",
     "output_type": "stream",
     "text": [
      "Enter SECRET WORD :  java\n"
     ]
    },
    {
     "name": "stdout",
     "output_type": "stream",
     "text": [
      "Guess the word: java\n"
     ]
    }
   ],
   "source": [
    "secret_word = \"python\"\n",
    "word = \"\"\n",
    "while word != secret_word:\n",
    "    word = input('Enter SECRET WORD : ')\n",
    "    if word != secret_word:\n",
    "        print('Guess the word:', word)\n",
    "print('Guess the word:', word)\n",
    "print('🎉 You guessed it!')"
   ]
  },
  {
   "cell_type": "markdown",
   "id": "ea22d55c-4267-4244-bda3-e93d8988216f",
   "metadata": {},
   "source": [
    "Question 4:\n",
    "\n",
    "orders = [\n",
    "    {\"order_id\": 1, \"customer\": \"Ali\", \"items\": [120, 80, 50]},\n",
    "    {\"order_id\": 2, \"customer\": \"Sara\", \"items\": [200, 150]},\n",
    "    {\"order_id\": 3, \"customer\": \"Raheel\", \"items\": [90, 60, 40, 30]},\n",
    "    {\"order_id\": 4, \"customer\": \"Naveed\", \"items\": [300]},\n",
    "]\n",
    "\n",
    "You are given a list of e-commerce orders. Each order has:\n",
    "\n",
    "an order ID\n",
    "\n",
    "a customer name\n",
    "\n",
    "a list of items with prices\n",
    "\n",
    "Write a Python program to print all items for each order using nested while loops.\n",
    "\n",
    "Expected Output:\n",
    "\n",
    "Order ID: 1 Customer: Ali\n",
    "\n",
    " Item Price: 120\n",
    " \n",
    " Item Price: 80\n",
    " \n",
    " Item Price: 50\n",
    "\n",
    "Order ID: 2 Customer: Sara\n",
    "\n",
    " Item Price: 200\n",
    " \n",
    " Item Price: 150\n",
    "\n",
    "Order ID: 3 Customer: Raheel\n",
    "\n",
    " Item Price: 90\n",
    " \n",
    " Item Price: 60\n",
    " \n",
    " Item Price: 40\n",
    " \n",
    " Item Price: 30\n",
    "\n",
    "Order ID: 4 Customer: Naveed\n",
    "\n",
    " Item Price: 300"
   ]
  },
  {
   "cell_type": "code",
   "execution_count": null,
   "id": "50370b65-b487-4741-a59f-ee31a02e4e60",
   "metadata": {},
   "outputs": [],
   "source": [
    "orders = [\n",
    "    {\"order_id\": 1, \"customer\": \"Ali\", \"items\": [120, 80, 50]},\n",
    "    {\"order_id\": 2, \"customer\": \"Sara\", \"items\": [200, 150]},\n",
    "    {\"order_id\": 3, \"customer\": \"Raheel\", \"items\": [90, 60, 40, 30]},\n",
    "    {\"order_id\": 4, \"customer\": \"Naveed\", \"items\": [300]},\n",
    "]\n",
    "i = 0\n",
    "while i < len(orders):\n",
    "    order = orders[i]\n",
    "    print(\"Order ID:\", order[\"order_id\"], \"Customer:\", order[\"customer\"])\n",
    "    j = 0\n",
    "    while j < len(order[\"items\"]):\n",
    "        print(\"Item Price:\", order[\"items\"][j])\n",
    "        j += 1\n",
    "    i += 1\n"
   ]
  },
  {
   "cell_type": "markdown",
   "id": "f7c2bbae-9a3d-454a-9ae7-bf81a77f66a1",
   "metadata": {},
   "source": [
    "Question 5:\n",
    "\n",
    "Print total amount spent by each customer (Using nested while loop)\n",
    "\n",
    "orders = [\n",
    "    {\"order_id\": 1, \"customer\": \"Ali\", \"items\": [120, 80, 50]},\n",
    "    {\"order_id\": 2, \"customer\": \"Sara\", \"items\": [200, 150]},\n",
    "    {\"order_id\": 3, \"customer\": \"Raheel\", \"items\": [90, 60, 40, 30]},\n",
    "    {\"order_id\": 4, \"customer\": \"Naveed\", \"items\": [300]},\n",
    "]\n",
    "\n",
    "Expected Output:\n",
    "\n",
    "Ali spent total: 250\n",
    "\n",
    "Sara spent total: 350\n",
    "\n",
    "Raheel spent total: 220\n",
    "\n",
    "Naveed spent total: 300"
   ]
  },
  {
   "cell_type": "code",
   "execution_count": null,
   "id": "39881af2-6f0a-4786-bd47-a1bdfc835868",
   "metadata": {},
   "outputs": [],
   "source": [
    "orders = [\n",
    "    {\"order_id\": 1, \"customer\": \"Ali\", \"items\": [120, 80, 50]},\n",
    "    {\"order_id\": 2, \"customer\": \"Sara\", \"items\": [200, 150]},\n",
    "    {\"order_id\": 3, \"customer\": \"Raheel\", \"items\": [90, 60, 40, 30]},\n",
    "    {\"order_id\": 4, \"customer\": \"Naveed\", \"items\": [300]},\n",
    "]\n",
    "i = 0\n",
    "while i < len(orders):\n",
    "    order = orders[i]\n",
    "    total = 0\n",
    "    j = 0\n",
    "    while j < len(order[\"items\"]):\n",
    "        total += order[\"items\"][j]\n",
    "        j += 1\n",
    "    print(order[\"customer\"], \"spent total:\", total)\n",
    "    i += 1"
   ]
  },
  {
   "cell_type": "markdown",
   "id": "9df85479-cd55-4385-90aa-19b0ecc04bcc",
   "metadata": {},
   "source": [
    "Question 6:\n",
    "\n",
    "Print the maximum item price for each order. (Using nested while loop)\n",
    "\n",
    "orders = [ {\"order_id\": 1, \"customer\": \"Ali\", \"items\": [120, 80, 50]}, {\"order_id\": 2, \"customer\": \"Sara\", \"items\": [200, 150]}, {\"order_id\": 3, \"customer\": \"Raheel\", \"items\": [90, 60, 40, 30]}, {\"order_id\": 4, \"customer\": \"Naveed\", \"items\": [300]}, ]\n",
    "\n",
    "Expected Output:\n",
    "\n",
    "Most expensive item in Order 1 = 120\n",
    "\n",
    "Most expensive item in Order 2 = 200\n",
    "\n",
    "Most expensive item in Order 3 = 90\n",
    "\n",
    "Most expensive item in Order 4 = 300"
   ]
  },
  {
   "cell_type": "code",
   "execution_count": null,
   "id": "1a5f8905-47f3-4626-8f20-ff4254f8cd34",
   "metadata": {},
   "outputs": [],
   "source": [
    "orders = [\n",
    "    {\"order_id\": 1, \"customer\": \"Ali\", \"items\": [120, 80, 50]},\n",
    "    {\"order_id\": 2, \"customer\": \"Sara\", \"items\": [200, 150]},\n",
    "    {\"order_id\": 3, \"customer\": \"Raheel\", \"items\": [90, 60, 40, 30]},\n",
    "    {\"order_id\": 4, \"customer\": \"Naveed\", \"items\": [300]},\n",
    "]\n",
    "i = 0\n",
    "while i < len(orders):\n",
    "    order = orders[i]\n",
    "    j = 0\n",
    "    max_price = order[\"items\"][0] \n",
    "    \n",
    "    while j < len(order[\"items\"]):\n",
    "        if order[\"items\"][j] > max_price:\n",
    "            max_price = order[\"items\"][j]\n",
    "        j += 1\n",
    "    \n",
    "    print(\"Most expensive item in Order\", order[\"order_id\"], \"=\", max_price)\n",
    "    i += 1\n"
   ]
  },
  {
   "cell_type": "markdown",
   "id": "937da036-8d3c-4ea7-a673-09b22d804e90",
   "metadata": {},
   "source": [
    "Question 7:\n",
    "\n",
    "Write a Python program to create a single list (list comprehension) that contains all numbers from 1 to 50 which are multiples of 5 and 10.\n",
    "\n",
    "Expected Output:\n",
    "\n",
    "Multiples of 5 and 10 from 1 to 50: [10, 20, 30, 40, 50]\n"
   ]
  },
  {
   "cell_type": "code",
   "execution_count": null,
   "id": "3fc888f0-72f1-4196-b1c1-e52968267fa3",
   "metadata": {},
   "outputs": [],
   "source": [
    "multiples = [num for num in range(1, 51) if num % 5 == 0 and num % 10 == 0]\n",
    "print(\"Multiples of 5 and 10 from 1 to 50:\", multiples)\n"
   ]
  },
  {
   "cell_type": "markdown",
   "id": "30e197b2-1fde-4ea1-81dd-078ea3c45379",
   "metadata": {},
   "source": [
    "Question 8:\n",
    "\n",
    "employees = [\n",
    "    {\"emp_id\": 1, \"name\": \"Ali\", \"dept\": \"Sales\", \"salary\": 50000, \"experience\": 2},\n",
    "    {\"emp_id\": 2, \"name\": \"Sara\", \"dept\": \"IT\", \"salary\": 65000, \"experience\": 5},\n",
    "    {\"emp_id\": 3, \"name\": \"Raheel\", \"dept\": \"HR\", \"salary\": 45000, \"experience\": 1},\n",
    "    {\"emp_id\": 4, \"name\": \"Naveed\", \"dept\": \"Finance\", \"salary\": 70000, \"experience\": 7},\n",
    "    {\"emp_id\": 5, \"name\": \"Ayesha\", \"dept\": \"IT\", \"salary\": 72000, \"experience\": 6},\n",
    "    {\"emp_id\": 6, \"name\": \"Talha\", \"dept\": \"Sales\", \"salary\": 55000, \"experience\": 3},\n",
    "    {\"emp_id\": 7, \"name\": \"Sana\", \"dept\": \"Finance\", \"salary\": 80000, \"experience\": 8},\n",
    "    {\"emp_id\": 8, \"name\": \"Hina\", \"dept\": \"HR\", \"salary\": 48000, \"experience\": 2},\n",
    "]\n",
    "\n",
    "Using List Comprehension\n",
    "\n",
    "Employees with salary > 60,000 AND experience > 5 years\n",
    "\n",
    "Expected Output:\n",
    "['Naveed', 'Ayesha', 'Sana']\n"
   ]
  },
  {
   "cell_type": "code",
   "execution_count": null,
   "id": "a994a280-02f1-414d-8a31-f1d8448da60d",
   "metadata": {},
   "outputs": [],
   "source": [
    "employees = [\n",
    "    {\"emp_id\": 1, \"name\": \"Ali\", \"dept\": \"Sales\", \"salary\": 50000, \"experience\": 2},\n",
    "    {\"emp_id\": 2, \"name\": \"Sara\", \"dept\": \"IT\", \"salary\": 65000, \"experience\": 5},\n",
    "    {\"emp_id\": 3, \"name\": \"Raheel\", \"dept\": \"HR\", \"salary\": 45000, \"experience\": 1},\n",
    "    {\"emp_id\": 4, \"name\": \"Naveed\", \"dept\": \"Finance\", \"salary\": 70000, \"experience\": 7},\n",
    "    {\"emp_id\": 5, \"name\": \"Ayesha\", \"dept\": \"IT\", \"salary\": 72000, \"experience\": 6},\n",
    "    {\"emp_id\": 6, \"name\": \"Talha\", \"dept\": \"Sales\", \"salary\": 55000, \"experience\": 3},\n",
    "    {\"emp_id\": 7, \"name\": \"Sana\", \"dept\": \"Finance\", \"salary\": 80000, \"experience\": 8},\n",
    "    {\"emp_id\": 8, \"name\": \"Hina\", \"dept\": \"HR\", \"salary\": 48000, \"experience\": 2},\n",
    "]\n",
    "qualified = [emp[\"name\"] for emp in employees if emp[\"salary\"] > 60000 and emp[\"experience\"] > 5]\n",
    "print(qualified)\n"
   ]
  },
  {
   "cell_type": "markdown",
   "id": "272760fb-2e38-40c4-a02a-9ef737ef1480",
   "metadata": {},
   "source": [
    "Question 9:\n",
    "\n",
    "Employees with NOT HR department\n",
    "\n",
    "Expected Output:\n",
    "['Ali', 'Sara', 'Naveed', 'Ayesha', 'Talha', 'Sana']\n"
   ]
  },
  {
   "cell_type": "code",
   "execution_count": null,
   "id": "41be3656-5db9-4ccc-823c-89fdeae16820",
   "metadata": {},
   "outputs": [],
   "source": [
    "not_hr = [emp[\"name\"] for emp in employees if emp[\"dept\"] != \"HR\"]\n",
    "print(not_hr)"
   ]
  },
  {
   "cell_type": "markdown",
   "id": "2edcf529-d79d-4f32-a576-f2cc918a9a47",
   "metadata": {},
   "source": [
    "Question 10:\n",
    "\n",
    "Employees NOT in Sales OR experience > 5\n",
    "\n",
    "Expected Output:\n",
    "['Sara', 'Raheel', 'Naveed', 'Ayesha', 'Sana', 'Hina']\n"
   ]
  },
  {
   "cell_type": "code",
   "execution_count": null,
   "id": "4856cf4c-2141-4698-bb59-0b748b0b7034",
   "metadata": {},
   "outputs": [],
   "source": [
    "result = [emp[\"name\"] for emp in employees if emp[\"dept\"] != \"Sales\" or emp[\"experience\"] > 5]\n",
    "print(result)"
   ]
  },
  {
   "cell_type": "markdown",
   "id": "752b7c73-97e7-4ab8-bd64-f19ae7476b87",
   "metadata": {},
   "source": [
    "##### "
   ]
  }
 ],
 "metadata": {
  "kernelspec": {
   "display_name": "Python 3 (ipykernel)",
   "language": "python",
   "name": "python3"
  },
  "language_info": {
   "codemirror_mode": {
    "name": "ipython",
    "version": 3
   },
   "file_extension": ".py",
   "mimetype": "text/x-python",
   "name": "python",
   "nbconvert_exporter": "python",
   "pygments_lexer": "ipython3",
   "version": "3.13.5"
  }
 },
 "nbformat": 4,
 "nbformat_minor": 5
}
