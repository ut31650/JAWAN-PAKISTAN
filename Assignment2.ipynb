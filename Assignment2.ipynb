{
 "cells": [
  {
   "cell_type": "markdown",
   "id": "4c939c4a-668c-4f99-addd-6ac2ef711734",
   "metadata": {},
   "source": [
    "Q1"
   ]
  },
  {
   "cell_type": "code",
   "execution_count": 20,
   "id": "e63cf36c-8a3c-460e-b837-7e604970ae1d",
   "metadata": {},
   "outputs": [
    {
     "name": "stdout",
     "output_type": "stream",
     "text": [
      "19\n",
      "11\n",
      "60\n",
      "3.75\n",
      "3\n",
      "3\n"
     ]
    }
   ],
   "source": [
    "a=15\n",
    "b=4\n",
    "#Sum\n",
    "print(a+b)\n",
    "#Difference\n",
    "print(a-b)\n",
    "#Product\n",
    "print(a*b)\n",
    "#Division\n",
    "print(a/b)\n",
    "#Floor Division\n",
    "print(a//b)\n",
    "#Modulus\n",
    "print(a%b)"
   ]
  },
  {
   "cell_type": "markdown",
   "id": "1e639bb3-21ad-46bc-a5b1-321d887e4afd",
   "metadata": {},
   "source": [
    "Q2"
   ]
  },
  {
   "cell_type": "code",
   "execution_count": 26,
   "id": "b81dcf3c-bea3-423b-935c-f963549a83cb",
   "metadata": {},
   "outputs": [
    {
     "name": "stdout",
     "output_type": "stream",
     "text": [
      "<class 'int'>\n",
      "<class 'float'>\n",
      "<class 'float'>\n",
      "<class 'str'>\n"
     ]
    }
   ],
   "source": [
    "num1 = 10\n",
    "num2 = 5.6\n",
    "num3 = 4.43\n",
    "num4 ='23'\n",
    "print(type(num1))\n",
    "print(type(num2))\n",
    "print(type(num3))\n",
    "print(type(num4))"
   ]
  },
  {
   "cell_type": "code",
   "execution_count": 29,
   "id": "f24933c0-37be-4650-aad1-bcd893be78d6",
   "metadata": {},
   "outputs": [
    {
     "name": "stdout",
     "output_type": "stream",
     "text": [
      "10.0\n",
      "5\n",
      "4.43\n",
      "23\n"
     ]
    }
   ],
   "source": [
    "#Integer to Float \n",
    "num1 = float(num1)\n",
    "print(num1)\n",
    "#Float to Integer\n",
    "num2 = int(num2)\n",
    "print(num2)\n",
    "#Float to String\n",
    "num3 = str(num3)\n",
    "print(num3)\n",
    "#String to Integer\n",
    "num4 = int(num4)\n",
    "print(num4)"
   ]
  },
  {
   "cell_type": "code",
   "execution_count": 30,
   "id": "adc36163-a66b-48ad-91bb-b760d9751a93",
   "metadata": {},
   "outputs": [
    {
     "name": "stdout",
     "output_type": "stream",
     "text": [
      "<class 'float'>\n",
      "<class 'int'>\n",
      "<class 'str'>\n",
      "<class 'int'>\n"
     ]
    }
   ],
   "source": [
    "print(type(num1))\n",
    "print(type(num2))\n",
    "print(type(num3))\n",
    "print(type(num4))"
   ]
  },
  {
   "cell_type": "markdown",
   "id": "4335624d-2216-4019-b9d8-690f11cc49f0",
   "metadata": {},
   "source": [
    "Q3"
   ]
  },
  {
   "cell_type": "code",
   "execution_count": 33,
   "id": "9b68c19b-c4a1-4cf3-9b3e-f69cd831b0f3",
   "metadata": {},
   "outputs": [
    {
     "data": {
      "text/plain": [
       "'BBQ'"
      ]
     },
     "execution_count": 33,
     "metadata": {},
     "output_type": "execute_result"
    }
   ],
   "source": [
    "Favorite_food=\"BBQ\"\n",
    "Favorite_food"
   ]
  },
  {
   "cell_type": "markdown",
   "id": "459a8756-6842-46d2-82af-8938154c3e50",
   "metadata": {},
   "source": [
    "Q4"
   ]
  },
  {
   "cell_type": "code",
   "execution_count": 35,
   "id": "06ffb6b0-3f3f-4328-8a63-ead0ff6ed112",
   "metadata": {},
   "outputs": [
    {
     "data": {
      "text/plain": [
       "55"
      ]
     },
     "execution_count": 35,
     "metadata": {},
     "output_type": "execute_result"
    }
   ],
   "source": [
    "apple = '22'\n",
    "mangoes = 33\n",
    "\n",
    "#First we change the type of apple into integer\n",
    "apple = int(apple)\n",
    "apple + mangoes\n"
   ]
  },
  {
   "cell_type": "markdown",
   "id": "5cd663eb-09d8-4c53-ad4e-7299c938e741",
   "metadata": {},
   "source": [
    "Q5"
   ]
  },
  {
   "cell_type": "code",
   "execution_count": 38,
   "id": "6ca74f55-6f7a-46a0-82f2-209e4674dafd",
   "metadata": {},
   "outputs": [
    {
     "name": "stdout",
     "output_type": "stream",
     "text": [
      "Muhammad Usman Talha\n",
      "20\n"
     ]
    }
   ],
   "source": [
    "name = \"Muhammad Usman Talha\"\n",
    "print(name)\n",
    "age = 20\n",
    "print(age)"
   ]
  },
  {
   "cell_type": "code",
   "execution_count": 39,
   "id": "d70b16eb-f73e-4c9d-8c51-5a0d5ca79f86",
   "metadata": {},
   "outputs": [
    {
     "data": {
      "text/plain": [
       "21"
      ]
     },
     "execution_count": 39,
     "metadata": {},
     "output_type": "execute_result"
    }
   ],
   "source": [
    "age = age + 1\n",
    "age"
   ]
  },
  {
   "cell_type": "markdown",
   "id": "0145b0b1-7a6d-40d3-825c-dc18cb02141b",
   "metadata": {},
   "source": [
    "Q6"
   ]
  },
  {
   "cell_type": "code",
   "execution_count": 41,
   "id": "015a99e3-00c6-4373-923b-7d20c91f818f",
   "metadata": {},
   "outputs": [
    {
     "name": "stdout",
     "output_type": "stream",
     "text": [
      "3\n",
      "4\n",
      "3\n",
      "2.0\n",
      "0\n",
      "25\n"
     ]
    }
   ],
   "source": [
    "a = 2\n",
    "b = 1\n",
    "c = 6\n",
    "d = 3\n",
    "\n",
    "\n",
    "#Add a and b\n",
    "print(a+b)\n",
    "#Subtract c and a\n",
    "print(c-a)\n",
    "#Multiply d and b\n",
    "print(d*b)\n",
    "#Divide c and d (float division)\n",
    "print(c/d)\n",
    "#Modulus of c divided by d\n",
    "print(c%d)\n",
    "#Square of (d+a)\n",
    "print((d+a)**2)\n"
   ]
  },
  {
   "cell_type": "markdown",
   "id": "d66d1567-23ac-4399-96a2-f0fe70b187cf",
   "metadata": {},
   "source": [
    "Q7"
   ]
  },
  {
   "cell_type": "code",
   "execution_count": 49,
   "id": "65d05447-5873-4d42-8ef9-bb4e519f22d0",
   "metadata": {},
   "outputs": [
    {
     "name": "stdout",
     "output_type": "stream",
     "text": [
      "8.3\n",
      "69.3\n",
      "12\n"
     ]
    }
   ],
   "source": [
    "a = '2'\n",
    "b = '11'\n",
    "c = 6.3\n",
    "\n",
    "\n",
    "#Convert a to integer and add c\n",
    "a = int(a)\n",
    "print(a+c)\n",
    "#Convert b to float then multiply by c\n",
    "b = float(b)\n",
    "print(b*c)\n",
    "#Convert c to integer then add to c\n",
    "c = int(c)\n",
    "print(c+c)\n"
   ]
  },
  {
   "cell_type": "markdown",
   "id": "38acc55e-8259-42c4-8994-d16c1509e522",
   "metadata": {},
   "source": [
    "Q8"
   ]
  },
  {
   "cell_type": "code",
   "execution_count": 51,
   "id": "44ba5e3c-a3d8-460b-9cf7-09ee83d59318",
   "metadata": {},
   "outputs": [
    {
     "name": "stdout",
     "output_type": "stream",
     "text": [
      "20\n",
      "25\n"
     ]
    }
   ],
   "source": [
    "#Age in the year 2020\n",
    "Age = 20\n",
    "print(Age)\n",
    "#Add 5 more year into the age\n",
    "Age = Age + 5\n",
    "print(Age)\n"
   ]
  },
  {
   "cell_type": "markdown",
   "id": "4041040c-18e2-4d59-a364-449d45d970ac",
   "metadata": {},
   "source": [
    "Q9"
   ]
  },
  {
   "cell_type": "code",
   "execution_count": 52,
   "id": "5e1265e1-efd6-4a56-a8ae-072f87c95213",
   "metadata": {},
   "outputs": [
    {
     "name": "stdout",
     "output_type": "stream",
     "text": [
      "12\n",
      "8\n"
     ]
    }
   ],
   "source": [
    "#Total books\n",
    "Books = 12\n",
    "print(Books)\n",
    "#4 books given to friend\n",
    "Books = 12 - 4\n",
    "print(Books)"
   ]
  },
  {
   "cell_type": "markdown",
   "id": "632bbc21-4c82-49d4-99eb-46810de71730",
   "metadata": {},
   "source": [
    "Q10"
   ]
  },
  {
   "cell_type": "code",
   "execution_count": 53,
   "id": "46f9f8e4-c731-4be8-8da7-a31b89c34f49",
   "metadata": {},
   "outputs": [
    {
     "name": "stdout",
     "output_type": "stream",
     "text": [
      "5\n",
      "15\n"
     ]
    }
   ],
   "source": [
    "#no of cookies baked\n",
    "Cookies = 5 \n",
    "print(Cookies)\n",
    "#total number of cookies after baked 3 time in a day is\n",
    "Cookies = Cookies*3\n",
    "print(Cookies)"
   ]
  },
  {
   "cell_type": "code",
   "execution_count": null,
   "id": "26dfb869-a7ca-407b-8194-a5a3b83c40d0",
   "metadata": {},
   "outputs": [],
   "source": []
  }
 ],
 "metadata": {
  "kernelspec": {
   "display_name": "Python 3 (ipykernel)",
   "language": "python",
   "name": "python3"
  },
  "language_info": {
   "codemirror_mode": {
    "name": "ipython",
    "version": 3
   },
   "file_extension": ".py",
   "mimetype": "text/x-python",
   "name": "python",
   "nbconvert_exporter": "python",
   "pygments_lexer": "ipython3",
   "version": "3.13.5"
  }
 },
 "nbformat": 4,
 "nbformat_minor": 5
}
